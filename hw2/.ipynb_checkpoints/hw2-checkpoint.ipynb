{
 "cells": [
  {
   "cell_type": "markdown",
   "id": "1af4b5a5",
   "metadata": {},
   "source": [
    "# HW 2 - Saira Chawla"
   ]
  },
  {
   "cell_type": "code",
   "execution_count": 1,
   "id": "fe11579a",
   "metadata": {},
   "outputs": [],
   "source": [
    "# importing necessary libraries & functions\n",
    "import pandas as pd\n",
    "import matplotlib.pyplot as plt\n",
    "import numpy as np\n",
    "from statistics import mean \n",
    "\n",
    "# import functions from sklearn\n",
    "from sklearn.model_selection import train_test_split\n",
    "from sklearn.neighbors import KNeighborsRegressor\n",
    "from sklearn.linear_model import LinearRegression\n",
    "from sklearn.linear_model import Ridge\n",
    "from sklearn.linear_model import Lasso\n",
    "\n",
    "from sklearn.model_selection import cross_val_score\n",
    "from sklearn.model_selection import RepeatedKFold\n",
    "from sklearn.model_selection import StratifiedKFold\n",
    "\n",
    "from sklearn.model_selection import KFold\n",
    "\n",
    "from sklearn.preprocessing import StandardScaler\n",
    "\n",
    "from sklearn.pipeline import make_pipeline\n",
    "from sklearn.model_selection import GridSearchCV\n",
    "\n",
    "from sklearn.linear_model import LogisticRegression\n",
    "from sklearn.neighbors import KNeighborsClassifier\n",
    "from sklearn.model_selection import KFold"
   ]
  },
  {
   "cell_type": "markdown",
   "id": "f43380d2",
   "metadata": {},
   "source": [
    "## Part 1"
   ]
  },
  {
   "cell_type": "markdown",
   "id": "d522ebb4",
   "metadata": {},
   "source": [
    "1. Find the url for the California Test Score Data Set from the following website:\n",
    "\n",
    "https://vincentarelbundock.github.io/Rdatasets/datasets.html\n",
    "\n",
    "Read through the \"DOC\" file to understand the variables in the dataset, then use the following url to import the data.  \n",
    "\n",
    "https://vincentarelbundock.github.io/Rdatasets/csv/Ecdat/Caschool.csv\n",
    "\n",
    "The target data (i.e. the dependent variable) is named \"testscr\".  You can use all  variables in the data except for \"readscr\" and \"mathscr\" in the following analysis.  (These two variables were used to generate the dependent variable)."
   ]
  },
  {
   "cell_type": "code",
   "execution_count": 2,
   "id": "8b9bdaa4",
   "metadata": {},
   "outputs": [],
   "source": [
    "# reading in csv "
   ]
  },
  {
   "cell_type": "code",
   "execution_count": 3,
   "id": "a54f40ca",
   "metadata": {},
   "outputs": [],
   "source": [
    "caschool = pd.read_csv(\"https://vincentarelbundock.github.io/Rdatasets/csv/Ecdat/Caschool.csv\")"
   ]
  },
  {
   "cell_type": "code",
   "execution_count": 4,
   "id": "44f6c3b5",
   "metadata": {},
   "outputs": [
    {
     "data": {
      "text/html": [
       "<div>\n",
       "<style scoped>\n",
       "    .dataframe tbody tr th:only-of-type {\n",
       "        vertical-align: middle;\n",
       "    }\n",
       "\n",
       "    .dataframe tbody tr th {\n",
       "        vertical-align: top;\n",
       "    }\n",
       "\n",
       "    .dataframe thead th {\n",
       "        text-align: right;\n",
       "    }\n",
       "</style>\n",
       "<table border=\"1\" class=\"dataframe\">\n",
       "  <thead>\n",
       "    <tr style=\"text-align: right;\">\n",
       "      <th></th>\n",
       "      <th>Unnamed: 0</th>\n",
       "      <th>distcod</th>\n",
       "      <th>county</th>\n",
       "      <th>district</th>\n",
       "      <th>grspan</th>\n",
       "      <th>enrltot</th>\n",
       "      <th>teachers</th>\n",
       "      <th>calwpct</th>\n",
       "      <th>mealpct</th>\n",
       "      <th>computer</th>\n",
       "      <th>testscr</th>\n",
       "      <th>compstu</th>\n",
       "      <th>expnstu</th>\n",
       "      <th>str</th>\n",
       "      <th>avginc</th>\n",
       "      <th>elpct</th>\n",
       "      <th>readscr</th>\n",
       "      <th>mathscr</th>\n",
       "    </tr>\n",
       "  </thead>\n",
       "  <tbody>\n",
       "    <tr>\n",
       "      <th>0</th>\n",
       "      <td>1</td>\n",
       "      <td>75119</td>\n",
       "      <td>Alameda</td>\n",
       "      <td>Sunol Glen Unified</td>\n",
       "      <td>KK-08</td>\n",
       "      <td>195</td>\n",
       "      <td>10.900000</td>\n",
       "      <td>0.510200</td>\n",
       "      <td>2.040800</td>\n",
       "      <td>67</td>\n",
       "      <td>690.799988</td>\n",
       "      <td>0.343590</td>\n",
       "      <td>6384.911133</td>\n",
       "      <td>17.889910</td>\n",
       "      <td>22.690001</td>\n",
       "      <td>0.000000</td>\n",
       "      <td>691.599976</td>\n",
       "      <td>690.000000</td>\n",
       "    </tr>\n",
       "    <tr>\n",
       "      <th>1</th>\n",
       "      <td>2</td>\n",
       "      <td>61499</td>\n",
       "      <td>Butte</td>\n",
       "      <td>Manzanita Elementary</td>\n",
       "      <td>KK-08</td>\n",
       "      <td>240</td>\n",
       "      <td>11.150000</td>\n",
       "      <td>15.416700</td>\n",
       "      <td>47.916698</td>\n",
       "      <td>101</td>\n",
       "      <td>661.200012</td>\n",
       "      <td>0.420833</td>\n",
       "      <td>5099.380859</td>\n",
       "      <td>21.524664</td>\n",
       "      <td>9.824000</td>\n",
       "      <td>4.583333</td>\n",
       "      <td>660.500000</td>\n",
       "      <td>661.900024</td>\n",
       "    </tr>\n",
       "    <tr>\n",
       "      <th>2</th>\n",
       "      <td>3</td>\n",
       "      <td>61549</td>\n",
       "      <td>Butte</td>\n",
       "      <td>Thermalito Union Elementary</td>\n",
       "      <td>KK-08</td>\n",
       "      <td>1550</td>\n",
       "      <td>82.900002</td>\n",
       "      <td>55.032299</td>\n",
       "      <td>76.322601</td>\n",
       "      <td>169</td>\n",
       "      <td>643.599976</td>\n",
       "      <td>0.109032</td>\n",
       "      <td>5501.954590</td>\n",
       "      <td>18.697226</td>\n",
       "      <td>8.978000</td>\n",
       "      <td>30.000002</td>\n",
       "      <td>636.299988</td>\n",
       "      <td>650.900024</td>\n",
       "    </tr>\n",
       "    <tr>\n",
       "      <th>3</th>\n",
       "      <td>4</td>\n",
       "      <td>61457</td>\n",
       "      <td>Butte</td>\n",
       "      <td>Golden Feather Union Elementary</td>\n",
       "      <td>KK-08</td>\n",
       "      <td>243</td>\n",
       "      <td>14.000000</td>\n",
       "      <td>36.475399</td>\n",
       "      <td>77.049202</td>\n",
       "      <td>85</td>\n",
       "      <td>647.700012</td>\n",
       "      <td>0.349794</td>\n",
       "      <td>7101.831055</td>\n",
       "      <td>17.357143</td>\n",
       "      <td>8.978000</td>\n",
       "      <td>0.000000</td>\n",
       "      <td>651.900024</td>\n",
       "      <td>643.500000</td>\n",
       "    </tr>\n",
       "    <tr>\n",
       "      <th>4</th>\n",
       "      <td>5</td>\n",
       "      <td>61523</td>\n",
       "      <td>Butte</td>\n",
       "      <td>Palermo Union Elementary</td>\n",
       "      <td>KK-08</td>\n",
       "      <td>1335</td>\n",
       "      <td>71.500000</td>\n",
       "      <td>33.108601</td>\n",
       "      <td>78.427002</td>\n",
       "      <td>171</td>\n",
       "      <td>640.849976</td>\n",
       "      <td>0.128090</td>\n",
       "      <td>5235.987793</td>\n",
       "      <td>18.671329</td>\n",
       "      <td>9.080333</td>\n",
       "      <td>13.857677</td>\n",
       "      <td>641.799988</td>\n",
       "      <td>639.900024</td>\n",
       "    </tr>\n",
       "  </tbody>\n",
       "</table>\n",
       "</div>"
      ],
      "text/plain": [
       "   Unnamed: 0  distcod   county                         district grspan  \\\n",
       "0           1    75119  Alameda               Sunol Glen Unified  KK-08   \n",
       "1           2    61499    Butte             Manzanita Elementary  KK-08   \n",
       "2           3    61549    Butte      Thermalito Union Elementary  KK-08   \n",
       "3           4    61457    Butte  Golden Feather Union Elementary  KK-08   \n",
       "4           5    61523    Butte         Palermo Union Elementary  KK-08   \n",
       "\n",
       "   enrltot   teachers    calwpct    mealpct  computer     testscr   compstu  \\\n",
       "0      195  10.900000   0.510200   2.040800        67  690.799988  0.343590   \n",
       "1      240  11.150000  15.416700  47.916698       101  661.200012  0.420833   \n",
       "2     1550  82.900002  55.032299  76.322601       169  643.599976  0.109032   \n",
       "3      243  14.000000  36.475399  77.049202        85  647.700012  0.349794   \n",
       "4     1335  71.500000  33.108601  78.427002       171  640.849976  0.128090   \n",
       "\n",
       "       expnstu        str     avginc      elpct     readscr     mathscr  \n",
       "0  6384.911133  17.889910  22.690001   0.000000  691.599976  690.000000  \n",
       "1  5099.380859  21.524664   9.824000   4.583333  660.500000  661.900024  \n",
       "2  5501.954590  18.697226   8.978000  30.000002  636.299988  650.900024  \n",
       "3  7101.831055  17.357143   8.978000   0.000000  651.900024  643.500000  \n",
       "4  5235.987793  18.671329   9.080333  13.857677  641.799988  639.900024  "
      ]
     },
     "execution_count": 4,
     "metadata": {},
     "output_type": "execute_result"
    }
   ],
   "source": [
    "caschool.head()"
   ]
  },
  {
   "cell_type": "markdown",
   "id": "b4215ff0",
   "metadata": {},
   "source": [
    "1.1 Visualize the univariate distribution of the target feature and each of the three continuous explanatory variables that you think are likely to have a relationship with the target feature.  "
   ]
  },
  {
   "cell_type": "markdown",
   "id": "8cd3e951",
   "metadata": {},
   "source": [
    "The tree continuous explanatory variables I chose are: computer, which respresents the number of computers at the school; expnstu, which is the $ amount average expenditure per student; and avginc, which is the average income of households of the area. Each are likely to have a relationship with testscr as resources are key to an education. "
   ]
  },
  {
   "cell_type": "code",
   "execution_count": 5,
   "id": "b7cf4dc9",
   "metadata": {},
   "outputs": [
    {
     "data": {
      "text/plain": [
       "<AxesSubplot: >"
      ]
     },
     "execution_count": 5,
     "metadata": {},
     "output_type": "execute_result"
    },
    {
     "data": {
      "image/png": "[encoded data removed]",
      "text/plain": [
       "<Figure size 432x288 with 1 Axes>"
      ]
     },
     "metadata": {
      "needs_background": "light"
     },
     "output_type": "display_data"
    }
   ],
   "source": [
    "caschool['computer'].hist()"
   ]
  },
  {
   "cell_type": "code",
   "execution_count": 6,
   "id": "63cf0ab9",
   "metadata": {},
   "outputs": [
    {
     "data": {
      "text/plain": [
       "<AxesSubplot: >"
      ]
     },
     "execution_count": 6,
     "metadata": {},
     "output_type": "execute_result"
    },
    {
     "data": {
      "image/png": "[encoded data removed]",
      "text/plain": [
       "<Figure size 432x288 with 1 Axes>"
      ]
     },
     "metadata": {
      "needs_background": "light"
     },
     "output_type": "display_data"
    }
   ],
   "source": [
    "caschool['expnstu'].hist()"
   ]
  },
  {
   "cell_type": "code",
   "execution_count": 7,
   "id": "3761efa1",
   "metadata": {},
   "outputs": [
    {
     "data": {
      "text/plain": [
       "<AxesSubplot: >"
      ]
     },
     "execution_count": 7,
     "metadata": {},
     "output_type": "execute_result"
    },
    {
     "data": {
      "image/png": "[encoded data removed]",
      "text/plain": [
       "<Figure size 432x288 with 1 Axes>"
      ]
     },
     "metadata": {
      "needs_background": "light"
     },
     "output_type": "display_data"
    }
   ],
   "source": [
    "caschool['avginc'].hist()"
   ]
  },
  {
   "cell_type": "markdown",
   "id": "a573e68d",
   "metadata": {},
   "source": [
    "1.2 Visualize the dependency of the target on each feature from 1.1."
   ]
  },
  {
   "cell_type": "code",
   "execution_count": 8,
   "id": "6f0f9eac",
   "metadata": {},
   "outputs": [
    {
     "data": {
      "text/plain": [
       "array([[ 1.        , -0.07373582],\n",
       "       [-0.07373582,  1.        ]])"
      ]
     },
     "execution_count": 8,
     "metadata": {},
     "output_type": "execute_result"
    }
   ],
   "source": [
    "np.corrcoef(caschool['computer'], caschool['testscr'])"
   ]
  },
  {
   "cell_type": "code",
   "execution_count": 9,
   "id": "a278826f",
   "metadata": {},
   "outputs": [
    {
     "data": {
      "text/plain": [
       "<matplotlib.collections.PathCollection at 0x11b8558d0>"
      ]
     },
     "execution_count": 9,
     "metadata": {},
     "output_type": "execute_result"
    },
    {
     "data": {
      "image/png": "[encoded data removed]",
      "text/plain": [
       "<Figure size 432x288 with 1 Axes>"
      ]
     },
     "metadata": {
      "needs_background": "light"
     },
     "output_type": "display_data"
    }
   ],
   "source": [
    "plt.scatter(caschool['computer'], caschool['testscr'])"
   ]
  },
  {
   "cell_type": "code",
   "execution_count": 10,
   "id": "a815ffec",
   "metadata": {},
   "outputs": [
    {
     "data": {
      "text/plain": [
       "array([[1.        , 0.19127277],\n",
       "       [0.19127277, 1.        ]])"
      ]
     },
     "execution_count": 10,
     "metadata": {},
     "output_type": "execute_result"
    }
   ],
   "source": [
    "np.corrcoef(caschool['expnstu'], caschool['testscr'])"
   ]
  },
  {
   "cell_type": "code",
   "execution_count": 11,
   "id": "fe553582",
   "metadata": {},
   "outputs": [
    {
     "data": {
      "text/plain": [
       "<matplotlib.collections.PathCollection at 0x11b8d68f0>"
      ]
     },
     "execution_count": 11,
     "metadata": {},
     "output_type": "execute_result"
    },
    {
     "data": {
      "image/png": "[encoded data removed]",
      "text/plain": [
       "<Figure size 432x288 with 1 Axes>"
      ]
     },
     "metadata": {
      "needs_background": "light"
     },
     "output_type": "display_data"
    }
   ],
   "source": [
    "plt.scatter(caschool['expnstu'], caschool['testscr'])"
   ]
  },
  {
   "cell_type": "code",
   "execution_count": 12,
   "id": "ab3c83f7",
   "metadata": {},
   "outputs": [
    {
     "data": {
      "text/plain": [
       "array([[1.        , 0.71243083],\n",
       "       [0.71243083, 1.        ]])"
      ]
     },
     "execution_count": 12,
     "metadata": {},
     "output_type": "execute_result"
    }
   ],
   "source": [
    "np.corrcoef(caschool['avginc'], caschool['testscr'])"
   ]
  },
  {
   "cell_type": "code",
   "execution_count": 13,
   "id": "ca19b86e",
   "metadata": {},
   "outputs": [
    {
     "data": {
      "text/plain": [
       "<matplotlib.collections.PathCollection at 0x11b964e20>"
      ]
     },
     "execution_count": 13,
     "metadata": {},
     "output_type": "execute_result"
    },
    {
     "data": {
      "image/png": "[encoded data removed]",
      "text/plain": [
       "<Figure size 432x288 with 1 Axes>"
      ]
     },
     "metadata": {
      "needs_background": "light"
     },
     "output_type": "display_data"
    }
   ],
   "source": [
    "plt.scatter(caschool['avginc'], caschool['testscr'])"
   ]
  },
  {
   "cell_type": "markdown",
   "id": "58acc7e2",
   "metadata": {},
   "source": [
    "1.3 Split data in training and test set. Build models that evaluate the relationship between all available X variables in the California test dataset and the target variable. Evaluate KNN for regression, Linear Regression (OLS), Ridge, and Lasso using cross-validation with the default parameters. Does scaling the data with the StandardScaler help?"
   ]
  },
  {
   "cell_type": "code",
   "execution_count": 14,
   "id": "f57e9fad",
   "metadata": {},
   "outputs": [],
   "source": [
    "# target variable\n",
    "y = caschool['testscr']\n",
    "# all numeric columns that aren't target variable\n",
    "X = caschool.loc[:, (caschool.dtypes == int) | (caschool.dtypes == float)]"
   ]
  },
  {
   "cell_type": "code",
   "execution_count": 15,
   "id": "85b83620",
   "metadata": {},
   "outputs": [
    {
     "data": {
      "text/html": [
       "<div>\n",
       "<style scoped>\n",
       "    .dataframe tbody tr th:only-of-type {\n",
       "        vertical-align: middle;\n",
       "    }\n",
       "\n",
       "    .dataframe tbody tr th {\n",
       "        vertical-align: top;\n",
       "    }\n",
       "\n",
       "    .dataframe thead th {\n",
       "        text-align: right;\n",
       "    }\n",
       "</style>\n",
       "<table border=\"1\" class=\"dataframe\">\n",
       "  <thead>\n",
       "    <tr style=\"text-align: right;\">\n",
       "      <th></th>\n",
       "      <th>distcod</th>\n",
       "      <th>enrltot</th>\n",
       "      <th>teachers</th>\n",
       "      <th>calwpct</th>\n",
       "      <th>mealpct</th>\n",
       "      <th>computer</th>\n",
       "      <th>testscr</th>\n",
       "      <th>compstu</th>\n",
       "      <th>expnstu</th>\n",
       "      <th>str</th>\n",
       "      <th>avginc</th>\n",
       "      <th>elpct</th>\n",
       "    </tr>\n",
       "  </thead>\n",
       "  <tbody>\n",
       "    <tr>\n",
       "      <th>0</th>\n",
       "      <td>75119</td>\n",
       "      <td>195</td>\n",
       "      <td>10.900000</td>\n",
       "      <td>0.510200</td>\n",
       "      <td>2.040800</td>\n",
       "      <td>67</td>\n",
       "      <td>690.799988</td>\n",
       "      <td>0.343590</td>\n",
       "      <td>6384.911133</td>\n",
       "      <td>17.889910</td>\n",
       "      <td>22.690001</td>\n",
       "      <td>0.000000</td>\n",
       "    </tr>\n",
       "    <tr>\n",
       "      <th>1</th>\n",
       "      <td>61499</td>\n",
       "      <td>240</td>\n",
       "      <td>11.150000</td>\n",
       "      <td>15.416700</td>\n",
       "      <td>47.916698</td>\n",
       "      <td>101</td>\n",
       "      <td>661.200012</td>\n",
       "      <td>0.420833</td>\n",
       "      <td>5099.380859</td>\n",
       "      <td>21.524664</td>\n",
       "      <td>9.824000</td>\n",
       "      <td>4.583333</td>\n",
       "    </tr>\n",
       "    <tr>\n",
       "      <th>2</th>\n",
       "      <td>61549</td>\n",
       "      <td>1550</td>\n",
       "      <td>82.900002</td>\n",
       "      <td>55.032299</td>\n",
       "      <td>76.322601</td>\n",
       "      <td>169</td>\n",
       "      <td>643.599976</td>\n",
       "      <td>0.109032</td>\n",
       "      <td>5501.954590</td>\n",
       "      <td>18.697226</td>\n",
       "      <td>8.978000</td>\n",
       "      <td>30.000002</td>\n",
       "    </tr>\n",
       "    <tr>\n",
       "      <th>3</th>\n",
       "      <td>61457</td>\n",
       "      <td>243</td>\n",
       "      <td>14.000000</td>\n",
       "      <td>36.475399</td>\n",
       "      <td>77.049202</td>\n",
       "      <td>85</td>\n",
       "      <td>647.700012</td>\n",
       "      <td>0.349794</td>\n",
       "      <td>7101.831055</td>\n",
       "      <td>17.357143</td>\n",
       "      <td>8.978000</td>\n",
       "      <td>0.000000</td>\n",
       "    </tr>\n",
       "    <tr>\n",
       "      <th>4</th>\n",
       "      <td>61523</td>\n",
       "      <td>1335</td>\n",
       "      <td>71.500000</td>\n",
       "      <td>33.108601</td>\n",
       "      <td>78.427002</td>\n",
       "      <td>171</td>\n",
       "      <td>640.849976</td>\n",
       "      <td>0.128090</td>\n",
       "      <td>5235.987793</td>\n",
       "      <td>18.671329</td>\n",
       "      <td>9.080333</td>\n",
       "      <td>13.857677</td>\n",
       "    </tr>\n",
       "    <tr>\n",
       "      <th>...</th>\n",
       "      <td>...</td>\n",
       "      <td>...</td>\n",
       "      <td>...</td>\n",
       "      <td>...</td>\n",
       "      <td>...</td>\n",
       "      <td>...</td>\n",
       "      <td>...</td>\n",
       "      <td>...</td>\n",
       "      <td>...</td>\n",
       "      <td>...</td>\n",
       "      <td>...</td>\n",
       "      <td>...</td>\n",
       "    </tr>\n",
       "    <tr>\n",
       "      <th>415</th>\n",
       "      <td>68957</td>\n",
       "      <td>984</td>\n",
       "      <td>59.730000</td>\n",
       "      <td>0.101600</td>\n",
       "      <td>3.556900</td>\n",
       "      <td>195</td>\n",
       "      <td>704.300049</td>\n",
       "      <td>0.198171</td>\n",
       "      <td>7290.338867</td>\n",
       "      <td>16.474134</td>\n",
       "      <td>28.716999</td>\n",
       "      <td>5.995935</td>\n",
       "    </tr>\n",
       "    <tr>\n",
       "      <th>416</th>\n",
       "      <td>69518</td>\n",
       "      <td>3724</td>\n",
       "      <td>208.479996</td>\n",
       "      <td>1.074100</td>\n",
       "      <td>1.503800</td>\n",
       "      <td>721</td>\n",
       "      <td>706.750000</td>\n",
       "      <td>0.193609</td>\n",
       "      <td>5741.462891</td>\n",
       "      <td>17.862625</td>\n",
       "      <td>41.734108</td>\n",
       "      <td>4.726101</td>\n",
       "    </tr>\n",
       "    <tr>\n",
       "      <th>417</th>\n",
       "      <td>72611</td>\n",
       "      <td>441</td>\n",
       "      <td>20.150000</td>\n",
       "      <td>3.563500</td>\n",
       "      <td>37.193802</td>\n",
       "      <td>45</td>\n",
       "      <td>645.000000</td>\n",
       "      <td>0.102041</td>\n",
       "      <td>4402.831543</td>\n",
       "      <td>21.885857</td>\n",
       "      <td>23.733000</td>\n",
       "      <td>24.263039</td>\n",
       "    </tr>\n",
       "    <tr>\n",
       "      <th>418</th>\n",
       "      <td>72744</td>\n",
       "      <td>101</td>\n",
       "      <td>5.000000</td>\n",
       "      <td>11.881200</td>\n",
       "      <td>59.405899</td>\n",
       "      <td>14</td>\n",
       "      <td>672.200012</td>\n",
       "      <td>0.138614</td>\n",
       "      <td>4776.336426</td>\n",
       "      <td>20.200001</td>\n",
       "      <td>9.952000</td>\n",
       "      <td>2.970297</td>\n",
       "    </tr>\n",
       "    <tr>\n",
       "      <th>419</th>\n",
       "      <td>72751</td>\n",
       "      <td>1778</td>\n",
       "      <td>93.400002</td>\n",
       "      <td>6.923500</td>\n",
       "      <td>47.571201</td>\n",
       "      <td>313</td>\n",
       "      <td>655.750000</td>\n",
       "      <td>0.176041</td>\n",
       "      <td>5993.392578</td>\n",
       "      <td>19.036402</td>\n",
       "      <td>12.502000</td>\n",
       "      <td>5.005624</td>\n",
       "    </tr>\n",
       "  </tbody>\n",
       "</table>\n",
       "<p>420 rows × 12 columns</p>\n",
       "</div>"
      ],
      "text/plain": [
       "     distcod  enrltot    teachers    calwpct    mealpct  computer     testscr  \\\n",
       "0      75119      195   10.900000   0.510200   2.040800        67  690.799988   \n",
       "1      61499      240   11.150000  15.416700  47.916698       101  661.200012   \n",
       "2      61549     1550   82.900002  55.032299  76.322601       169  643.599976   \n",
       "3      61457      243   14.000000  36.475399  77.049202        85  647.700012   \n",
       "4      61523     1335   71.500000  33.108601  78.427002       171  640.849976   \n",
       "..       ...      ...         ...        ...        ...       ...         ...   \n",
       "415    68957      984   59.730000   0.101600   3.556900       195  704.300049   \n",
       "416    69518     3724  208.479996   1.074100   1.503800       721  706.750000   \n",
       "417    72611      441   20.150000   3.563500  37.193802        45  645.000000   \n",
       "418    72744      101    5.000000  11.881200  59.405899        14  672.200012   \n",
       "419    72751     1778   93.400002   6.923500  47.571201       313  655.750000   \n",
       "\n",
       "      compstu      expnstu        str     avginc      elpct  \n",
       "0    0.343590  6384.911133  17.889910  22.690001   0.000000  \n",
       "1    0.420833  5099.380859  21.524664   9.824000   4.583333  \n",
       "2    0.109032  5501.954590  18.697226   8.978000  30.000002  \n",
       "3    0.349794  7101.831055  17.357143   8.978000   0.000000  \n",
       "4    0.128090  5235.987793  18.671329   9.080333  13.857677  \n",
       "..        ...          ...        ...        ...        ...  \n",
       "415  0.198171  7290.338867  16.474134  28.716999   5.995935  \n",
       "416  0.193609  5741.462891  17.862625  41.734108   4.726101  \n",
       "417  0.102041  4402.831543  21.885857  23.733000  24.263039  \n",
       "418  0.138614  4776.336426  20.200001   9.952000   2.970297  \n",
       "419  0.176041  5993.392578  19.036402  12.502000   5.005624  \n",
       "\n",
       "[420 rows x 12 columns]"
      ]
     },
     "execution_count": 15,
     "metadata": {},
     "output_type": "execute_result"
    }
   ],
   "source": [
    "# dropping columns not need for regression model \n",
    "X.drop(['Unnamed: 0', 'readscr', 'mathscr'], axis=1)"
   ]
  },
  {
   "cell_type": "code",
   "execution_count": 16,
   "id": "d6f04aa4",
   "metadata": {},
   "outputs": [],
   "source": [
    "# splitting data\n",
    "X_train, X_test, y_train, y_test = train_test_split(X, y)"
   ]
  },
  {
   "cell_type": "code",
   "execution_count": 17,
   "id": "210fc531",
   "metadata": {},
   "outputs": [
    {
     "name": "stdout",
     "output_type": "stream",
     "text": [
      "(420, 15)\n",
      "(315, 15)\n"
     ]
    }
   ],
   "source": [
    "print(X.shape)\n",
    "print(X_train.shape)"
   ]
  },
  {
   "cell_type": "code",
   "execution_count": 18,
   "id": "d751fc05",
   "metadata": {},
   "outputs": [],
   "source": [
    "## K-FOLD STRATEGIES"
   ]
  },
  {
   "cell_type": "code",
   "execution_count": 19,
   "id": "e12da1e1",
   "metadata": {},
   "outputs": [],
   "source": [
    "kf = KFold(shuffle=True, random_state=42)\n",
    "skf = StratifiedKFold(n_splits=5, shuffle=True, random_state=42) #randomstates for the rest \n",
    "rkf = RepeatedKFold(n_splits=5, n_repeats=10, random_state=42)"
   ]
  },
  {
   "cell_type": "markdown",
   "id": "5cf87d1e",
   "metadata": {},
   "source": [
    "#### KNN for regression:"
   ]
  },
  {
   "cell_type": "code",
   "execution_count": 20,
   "id": "20ff0713",
   "metadata": {},
   "outputs": [
    {
     "data": {
      "text/plain": [
       "0.16041242936383587"
      ]
     },
     "execution_count": 20,
     "metadata": {},
     "output_type": "execute_result"
    }
   ],
   "source": [
    "knr = KNeighborsRegressor()\n",
    "knr.fit(X_train, y_train)\n",
    "mean(cross_val_score(knr, X_train, y_train))"
   ]
  },
  {
   "cell_type": "markdown",
   "id": "9c8c1f87",
   "metadata": {},
   "source": [
    "#### Linear Regression: "
   ]
  },
  {
   "cell_type": "code",
   "execution_count": 21,
   "id": "fcd9bead",
   "metadata": {},
   "outputs": [
    {
     "data": {
      "text/plain": [
       "1.0"
      ]
     },
     "execution_count": 21,
     "metadata": {},
     "output_type": "execute_result"
    }
   ],
   "source": [
    "lr = LinearRegression()\n",
    "lr.fit(X_train, y_train)\n",
    "mean(cross_val_score(lr, X_train, y_train))"
   ]
  },
  {
   "cell_type": "markdown",
   "id": "c4d55f04",
   "metadata": {},
   "source": [
    "#### Ridge Regression:"
   ]
  },
  {
   "cell_type": "code",
   "execution_count": 22,
   "id": "294acd06",
   "metadata": {},
   "outputs": [
    {
     "data": {
      "text/plain": [
       "0.9999999997455536"
      ]
     },
     "execution_count": 22,
     "metadata": {},
     "output_type": "execute_result"
    }
   ],
   "source": [
    "ridge = Ridge()\n",
    "ridge.fit(X_train, y_train)\n",
    "mean(cross_val_score(ridge, X_train, y_train))"
   ]
  },
  {
   "cell_type": "markdown",
   "id": "e6605ac1",
   "metadata": {},
   "source": [
    "#### Lasso Regression:"
   ]
  },
  {
   "cell_type": "code",
   "execution_count": 23,
   "id": "050712cd",
   "metadata": {},
   "outputs": [
    {
     "data": {
      "text/plain": [
       "0.9999288653436937"
      ]
     },
     "execution_count": 23,
     "metadata": {},
     "output_type": "execute_result"
    }
   ],
   "source": [
    "lasso = Lasso()\n",
    "lasso.fit(X_train, y_train)\n",
    "mean(cross_val_score(lasso, X_train, y_train))"
   ]
  },
  {
   "cell_type": "code",
   "execution_count": 24,
   "id": "b313d56a",
   "metadata": {},
   "outputs": [],
   "source": [
    "# scaling with StandardScaler\n",
    "## centering mean on zero and std dev on 1 for each variable"
   ]
  },
  {
   "cell_type": "code",
   "execution_count": 25,
   "id": "aa7b93fa",
   "metadata": {},
   "outputs": [],
   "source": [
    "scaler = StandardScaler().fit(X_train)\n",
    "X_train_scaled = scaler.transform(X_train)"
   ]
  },
  {
   "cell_type": "code",
   "execution_count": 26,
   "id": "7546b951",
   "metadata": {},
   "outputs": [
    {
     "data": {
      "text/plain": [
       "0.9301389548591352"
      ]
     },
     "execution_count": 26,
     "metadata": {},
     "output_type": "execute_result"
    }
   ],
   "source": [
    "mean(cross_val_score(knr, X_train_scaled, y_train))"
   ]
  },
  {
   "cell_type": "code",
   "execution_count": 27,
   "id": "36b8eec1",
   "metadata": {},
   "outputs": [
    {
     "data": {
      "text/plain": [
       "1.0"
      ]
     },
     "execution_count": 27,
     "metadata": {},
     "output_type": "execute_result"
    }
   ],
   "source": [
    "mean(cross_val_score(lr, X_train_scaled, y_train))"
   ]
  },
  {
   "cell_type": "code",
   "execution_count": 28,
   "id": "128555df",
   "metadata": {},
   "outputs": [
    {
     "data": {
      "text/plain": [
       "0.9999621070367266"
      ]
     },
     "execution_count": 28,
     "metadata": {},
     "output_type": "execute_result"
    }
   ],
   "source": [
    "mean(cross_val_score(ridge, X_train_scaled, y_train))"
   ]
  },
  {
   "cell_type": "code",
   "execution_count": 29,
   "id": "3b39ea5d",
   "metadata": {},
   "outputs": [
    {
     "data": {
      "text/plain": [
       "0.9973558988109706"
      ]
     },
     "execution_count": 29,
     "metadata": {},
     "output_type": "execute_result"
    }
   ],
   "source": [
    "mean(cross_val_score(lasso, X_train_scaled, y_train))"
   ]
  },
  {
   "cell_type": "markdown",
   "id": "3720e8a6",
   "metadata": {},
   "source": [
    "While scaling the data didn't make any significant changes for the Linear, Ridge, and Lasso regression models, it made a significant improvement in the accuracy for the K Neighbors regression model. "
   ]
  },
  {
   "cell_type": "markdown",
   "id": "d1323a8e",
   "metadata": {},
   "source": [
    "1.4 Tune the parameters of the models where possible using GridSearchCV. Do the results improve?"
   ]
  },
  {
   "cell_type": "code",
   "execution_count": 30,
   "id": "eaf2879e",
   "metadata": {},
   "outputs": [],
   "source": [
    "knr_pipe = make_pipeline(StandardScaler(), KNeighborsRegressor())"
   ]
  },
  {
   "cell_type": "code",
   "execution_count": 31,
   "id": "3d0ad4c7",
   "metadata": {},
   "outputs": [
    {
     "name": "stdout",
     "output_type": "stream",
     "text": [
      "{'kneighborsregressor__n_neighbors': 4}\n",
      "0.9283323896559513\n"
     ]
    }
   ],
   "source": [
    "param_grid_knr = {'kneighborsregressor__n_neighbors': range(1, 5)}\n",
    "grid_knr = GridSearchCV(knr_pipe, param_grid_knr, cv=kf)\n",
    "grid_knr.fit(X_train, y_train)\n",
    "print(grid_knr.best_params_)\n",
    "print(grid_knr.score(X_test, y_test))"
   ]
  },
  {
   "cell_type": "code",
   "execution_count": 32,
   "id": "b4b54edf",
   "metadata": {},
   "outputs": [],
   "source": [
    "lr_pipe = make_pipeline(StandardScaler(), LinearRegression())"
   ]
  },
  {
   "cell_type": "code",
   "execution_count": 33,
   "id": "36dc445c",
   "metadata": {},
   "outputs": [
    {
     "name": "stdout",
     "output_type": "stream",
     "text": [
      "{'linearregression__n_jobs': 1}\n",
      "1.0\n"
     ]
    }
   ],
   "source": [
    "param_grid_lr = {'linearregression__n_jobs': range(1,5)}\n",
    "grid_lr = GridSearchCV(lr_pipe, param_grid_lr, cv=kf)\n",
    "grid_lr.fit(X_train, y_train)\n",
    "print(grid_lr.best_params_)\n",
    "print(grid_lr.score(X_test, y_test))"
   ]
  },
  {
   "cell_type": "code",
   "execution_count": 34,
   "id": "0549af72",
   "metadata": {},
   "outputs": [],
   "source": [
    "ridge_pipe = make_pipeline(StandardScaler(), Ridge())"
   ]
  },
  {
   "cell_type": "code",
   "execution_count": 35,
   "id": "8d715f7c",
   "metadata": {},
   "outputs": [
    {
     "name": "stdout",
     "output_type": "stream",
     "text": [
      "Best Score:  0.9999999999590203\n",
      "Best Params:  {'ridge__alpha': 0.001}\n"
     ]
    }
   ],
   "source": [
    "# find optimal alpha with grid search\n",
    "alpha1 = [0.001, 0.01, 0.1, 1, 10, 100, 1000]\n",
    "param_grid_ridge = {'ridge__alpha': alpha1}\n",
    "grid_ridge = GridSearchCV(ridge_pipe, param_grid_ridge, cv=kf)\n",
    "grid_result_ridge = grid_ridge.fit(X_train, y_train)\n",
    "print('Best Score: ', grid_result_ridge.best_score_)\n",
    "print('Best Params: ', grid_result_ridge.best_params_)\n"
   ]
  },
  {
   "cell_type": "code",
   "execution_count": 36,
   "id": "7893a3ba",
   "metadata": {},
   "outputs": [
    {
     "name": "stdout",
     "output_type": "stream",
     "text": [
      "Best Score:  0.9999999667040438\n",
      "Best Params:  {'lasso__alpha': 0.001}\n"
     ]
    }
   ],
   "source": [
    "lasso_pipe = make_pipeline(StandardScaler(), Lasso())\n",
    "alpha2 = [0.001, 0.01, 0.1, 1, 10, 100, 1000]\n",
    "param_grid_lasso = {'lasso__alpha': alpha2}\n",
    "grid_lasso = GridSearchCV(lasso_pipe, param_grid_lasso, scoring='r2', cv=kf)\n",
    "grid_result_lasso = grid_lasso.fit(X_train, y_train)\n",
    "print('Best Score: ', grid_result_lasso.best_score_)\n",
    "print('Best Params: ', grid_result_lasso.best_params_)"
   ]
  },
  {
   "cell_type": "markdown",
   "id": "c4cec8d6",
   "metadata": {},
   "source": [
    "The results seem to overall stay the same with a slight negative or positive shift at most."
   ]
  },
  {
   "cell_type": "markdown",
   "id": "a18d6a27",
   "metadata": {},
   "source": [
    "1.5 Compare the coefficients of your two best linear models (not knn), do they agree on which features are important?"
   ]
  },
  {
   "cell_type": "code",
   "execution_count": 37,
   "id": "d8e11537",
   "metadata": {},
   "outputs": [
    {
     "name": "stdout",
     "output_type": "stream",
     "text": [
      "Linear regression intercept: 7.275957614183426e-12\n",
      "Linear regression beta_hat: [ 9.41616258e-17 -1.00613962e-16 -5.37764278e-17 -6.67760118e-16\n",
      " -1.08787491e-15 -4.03702679e-16  1.72713406e-16  1.00000000e+00\n",
      " -1.71894146e-13  1.21430643e-17 -2.25056654e-17 -2.78287593e-16\n",
      "  5.67579837e-17  1.95475439e-12  1.95473677e-12]\n"
     ]
    }
   ],
   "source": [
    "# coeffs for linear regression\n",
    "lr3 = LinearRegression(n_jobs=1).fit(X_train, y_train)\n",
    "print(\"Linear regression intercept: \" + str(lr3.intercept_))\n",
    "print(\"Linear regression beta_hat: \" + str(lr3.coef_))"
   ]
  },
  {
   "cell_type": "code",
   "execution_count": 38,
   "id": "6bad2b38",
   "metadata": {},
   "outputs": [
    {
     "name": "stdout",
     "output_type": "stream",
     "text": [
      "Ridge regression intercept: 0.00010096958055783034\n",
      "Ridge regression beta_hat: [ 3.57683210e-08 -4.33251736e-10 -2.63370240e-09  1.00351851e-07\n",
      "  6.29788397e-09 -1.01786017e-08 -2.01299981e-08  3.33395636e-01\n",
      "  3.95086639e-05 -9.46572542e-10  1.19862530e-08  1.01475578e-07\n",
      "  1.27887296e-07  3.33302111e-01  3.33302126e-01]\n"
     ]
    }
   ],
   "source": [
    "# coeffs for ridge (wbich is slightly better than lasso)\n",
    "ridge2 = Ridge(alpha=0.001).fit(X_train, y_train)\n",
    "print(\"Ridge regression intercept: \" + str(ridge2.intercept_))\n",
    "print(\"Ridge regression beta_hat: \" + str(ridge2.coef_))"
   ]
  },
  {
   "cell_type": "markdown",
   "id": "63f8d32c",
   "metadata": {},
   "source": [
    "They agree on the significance of each X variable but not the values of the coefficients. This, of course, varies in agreement based on what X variable we are looking at. "
   ]
  },
  {
   "cell_type": "markdown",
   "id": "161a7754",
   "metadata": {},
   "source": [
    "1.6 Discuss which final model you would choose to predict new data"
   ]
  },
  {
   "cell_type": "markdown",
   "id": "44a63b1a",
   "metadata": {},
   "source": [
    "Finally, the model I would pick is the linear regression model because it receives a cross validation score of 1.0 in each method, meaning that it predicted each value correctly. "
   ]
  },
  {
   "cell_type": "markdown",
   "id": "03244098",
   "metadata": {},
   "source": [
    "## Part 2"
   ]
  },
  {
   "cell_type": "code",
   "execution_count": 39,
   "id": "272f45e2",
   "metadata": {},
   "outputs": [],
   "source": [
    "# importing white wine csv file\n",
    "white = pd.read_csv(\"winequality-white.csv\", sep=';')"
   ]
  },
  {
   "cell_type": "code",
   "execution_count": 40,
   "id": "22edf014",
   "metadata": {},
   "outputs": [],
   "source": [
    "# importing red wine csv file\n",
    "red = pd.read_csv(\"winequality-red.csv\", sep=';')"
   ]
  },
  {
   "cell_type": "code",
   "execution_count": 41,
   "id": "61a5c8ef",
   "metadata": {},
   "outputs": [],
   "source": [
    "# adding a column winetype\n",
    "white[\"winetype\"] = 0\n",
    "red[\"winetype\"] = 1"
   ]
  },
  {
   "cell_type": "code",
   "execution_count": 42,
   "id": "666f4ad1",
   "metadata": {},
   "outputs": [
    {
     "data": {
      "text/html": [
       "<div>\n",
       "<style scoped>\n",
       "    .dataframe tbody tr th:only-of-type {\n",
       "        vertical-align: middle;\n",
       "    }\n",
       "\n",
       "    .dataframe tbody tr th {\n",
       "        vertical-align: top;\n",
       "    }\n",
       "\n",
       "    .dataframe thead th {\n",
       "        text-align: right;\n",
       "    }\n",
       "</style>\n",
       "<table border=\"1\" class=\"dataframe\">\n",
       "  <thead>\n",
       "    <tr style=\"text-align: right;\">\n",
       "      <th></th>\n",
       "      <th>fixed acidity</th>\n",
       "      <th>volatile acidity</th>\n",
       "      <th>citric acid</th>\n",
       "      <th>residual sugar</th>\n",
       "      <th>chlorides</th>\n",
       "      <th>free sulfur dioxide</th>\n",
       "      <th>total sulfur dioxide</th>\n",
       "      <th>density</th>\n",
       "      <th>pH</th>\n",
       "      <th>sulphates</th>\n",
       "      <th>alcohol</th>\n",
       "      <th>quality</th>\n",
       "      <th>winetype</th>\n",
       "    </tr>\n",
       "  </thead>\n",
       "  <tbody>\n",
       "    <tr>\n",
       "      <th>0</th>\n",
       "      <td>7.0</td>\n",
       "      <td>0.27</td>\n",
       "      <td>0.36</td>\n",
       "      <td>20.7</td>\n",
       "      <td>0.045</td>\n",
       "      <td>45.0</td>\n",
       "      <td>170.0</td>\n",
       "      <td>1.0010</td>\n",
       "      <td>3.00</td>\n",
       "      <td>0.45</td>\n",
       "      <td>8.8</td>\n",
       "      <td>6</td>\n",
       "      <td>0</td>\n",
       "    </tr>\n",
       "    <tr>\n",
       "      <th>1</th>\n",
       "      <td>6.3</td>\n",
       "      <td>0.30</td>\n",
       "      <td>0.34</td>\n",
       "      <td>1.6</td>\n",
       "      <td>0.049</td>\n",
       "      <td>14.0</td>\n",
       "      <td>132.0</td>\n",
       "      <td>0.9940</td>\n",
       "      <td>3.30</td>\n",
       "      <td>0.49</td>\n",
       "      <td>9.5</td>\n",
       "      <td>6</td>\n",
       "      <td>0</td>\n",
       "    </tr>\n",
       "    <tr>\n",
       "      <th>2</th>\n",
       "      <td>8.1</td>\n",
       "      <td>0.28</td>\n",
       "      <td>0.40</td>\n",
       "      <td>6.9</td>\n",
       "      <td>0.050</td>\n",
       "      <td>30.0</td>\n",
       "      <td>97.0</td>\n",
       "      <td>0.9951</td>\n",
       "      <td>3.26</td>\n",
       "      <td>0.44</td>\n",
       "      <td>10.1</td>\n",
       "      <td>6</td>\n",
       "      <td>0</td>\n",
       "    </tr>\n",
       "    <tr>\n",
       "      <th>3</th>\n",
       "      <td>7.2</td>\n",
       "      <td>0.23</td>\n",
       "      <td>0.32</td>\n",
       "      <td>8.5</td>\n",
       "      <td>0.058</td>\n",
       "      <td>47.0</td>\n",
       "      <td>186.0</td>\n",
       "      <td>0.9956</td>\n",
       "      <td>3.19</td>\n",
       "      <td>0.40</td>\n",
       "      <td>9.9</td>\n",
       "      <td>6</td>\n",
       "      <td>0</td>\n",
       "    </tr>\n",
       "    <tr>\n",
       "      <th>4</th>\n",
       "      <td>7.2</td>\n",
       "      <td>0.23</td>\n",
       "      <td>0.32</td>\n",
       "      <td>8.5</td>\n",
       "      <td>0.058</td>\n",
       "      <td>47.0</td>\n",
       "      <td>186.0</td>\n",
       "      <td>0.9956</td>\n",
       "      <td>3.19</td>\n",
       "      <td>0.40</td>\n",
       "      <td>9.9</td>\n",
       "      <td>6</td>\n",
       "      <td>0</td>\n",
       "    </tr>\n",
       "  </tbody>\n",
       "</table>\n",
       "</div>"
      ],
      "text/plain": [
       "   fixed acidity  volatile acidity  citric acid  residual sugar  chlorides  \\\n",
       "0            7.0              0.27         0.36            20.7      0.045   \n",
       "1            6.3              0.30         0.34             1.6      0.049   \n",
       "2            8.1              0.28         0.40             6.9      0.050   \n",
       "3            7.2              0.23         0.32             8.5      0.058   \n",
       "4            7.2              0.23         0.32             8.5      0.058   \n",
       "\n",
       "   free sulfur dioxide  total sulfur dioxide  density    pH  sulphates  \\\n",
       "0                 45.0                 170.0   1.0010  3.00       0.45   \n",
       "1                 14.0                 132.0   0.9940  3.30       0.49   \n",
       "2                 30.0                  97.0   0.9951  3.26       0.44   \n",
       "3                 47.0                 186.0   0.9956  3.19       0.40   \n",
       "4                 47.0                 186.0   0.9956  3.19       0.40   \n",
       "\n",
       "   alcohol  quality  winetype  \n",
       "0      8.8        6         0  \n",
       "1      9.5        6         0  \n",
       "2     10.1        6         0  \n",
       "3      9.9        6         0  \n",
       "4      9.9        6         0  "
      ]
     },
     "execution_count": 42,
     "metadata": {},
     "output_type": "execute_result"
    }
   ],
   "source": [
    "white.head()"
   ]
  },
  {
   "cell_type": "code",
   "execution_count": 43,
   "id": "8b13136d",
   "metadata": {},
   "outputs": [
    {
     "data": {
      "text/html": [
       "<div>\n",
       "<style scoped>\n",
       "    .dataframe tbody tr th:only-of-type {\n",
       "        vertical-align: middle;\n",
       "    }\n",
       "\n",
       "    .dataframe tbody tr th {\n",
       "        vertical-align: top;\n",
       "    }\n",
       "\n",
       "    .dataframe thead th {\n",
       "        text-align: right;\n",
       "    }\n",
       "</style>\n",
       "<table border=\"1\" class=\"dataframe\">\n",
       "  <thead>\n",
       "    <tr style=\"text-align: right;\">\n",
       "      <th></th>\n",
       "      <th>fixed acidity</th>\n",
       "      <th>volatile acidity</th>\n",
       "      <th>citric acid</th>\n",
       "      <th>residual sugar</th>\n",
       "      <th>chlorides</th>\n",
       "      <th>free sulfur dioxide</th>\n",
       "      <th>total sulfur dioxide</th>\n",
       "      <th>density</th>\n",
       "      <th>pH</th>\n",
       "      <th>sulphates</th>\n",
       "      <th>alcohol</th>\n",
       "      <th>quality</th>\n",
       "      <th>winetype</th>\n",
       "    </tr>\n",
       "  </thead>\n",
       "  <tbody>\n",
       "    <tr>\n",
       "      <th>0</th>\n",
       "      <td>7.4</td>\n",
       "      <td>0.70</td>\n",
       "      <td>0.00</td>\n",
       "      <td>1.9</td>\n",
       "      <td>0.076</td>\n",
       "      <td>11.0</td>\n",
       "      <td>34.0</td>\n",
       "      <td>0.9978</td>\n",
       "      <td>3.51</td>\n",
       "      <td>0.56</td>\n",
       "      <td>9.4</td>\n",
       "      <td>5</td>\n",
       "      <td>1</td>\n",
       "    </tr>\n",
       "    <tr>\n",
       "      <th>1</th>\n",
       "      <td>7.8</td>\n",
       "      <td>0.88</td>\n",
       "      <td>0.00</td>\n",
       "      <td>2.6</td>\n",
       "      <td>0.098</td>\n",
       "      <td>25.0</td>\n",
       "      <td>67.0</td>\n",
       "      <td>0.9968</td>\n",
       "      <td>3.20</td>\n",
       "      <td>0.68</td>\n",
       "      <td>9.8</td>\n",
       "      <td>5</td>\n",
       "      <td>1</td>\n",
       "    </tr>\n",
       "    <tr>\n",
       "      <th>2</th>\n",
       "      <td>7.8</td>\n",
       "      <td>0.76</td>\n",
       "      <td>0.04</td>\n",
       "      <td>2.3</td>\n",
       "      <td>0.092</td>\n",
       "      <td>15.0</td>\n",
       "      <td>54.0</td>\n",
       "      <td>0.9970</td>\n",
       "      <td>3.26</td>\n",
       "      <td>0.65</td>\n",
       "      <td>9.8</td>\n",
       "      <td>5</td>\n",
       "      <td>1</td>\n",
       "    </tr>\n",
       "    <tr>\n",
       "      <th>3</th>\n",
       "      <td>11.2</td>\n",
       "      <td>0.28</td>\n",
       "      <td>0.56</td>\n",
       "      <td>1.9</td>\n",
       "      <td>0.075</td>\n",
       "      <td>17.0</td>\n",
       "      <td>60.0</td>\n",
       "      <td>0.9980</td>\n",
       "      <td>3.16</td>\n",
       "      <td>0.58</td>\n",
       "      <td>9.8</td>\n",
       "      <td>6</td>\n",
       "      <td>1</td>\n",
       "    </tr>\n",
       "    <tr>\n",
       "      <th>4</th>\n",
       "      <td>7.4</td>\n",
       "      <td>0.70</td>\n",
       "      <td>0.00</td>\n",
       "      <td>1.9</td>\n",
       "      <td>0.076</td>\n",
       "      <td>11.0</td>\n",
       "      <td>34.0</td>\n",
       "      <td>0.9978</td>\n",
       "      <td>3.51</td>\n",
       "      <td>0.56</td>\n",
       "      <td>9.4</td>\n",
       "      <td>5</td>\n",
       "      <td>1</td>\n",
       "    </tr>\n",
       "  </tbody>\n",
       "</table>\n",
       "</div>"
      ],
      "text/plain": [
       "   fixed acidity  volatile acidity  citric acid  residual sugar  chlorides  \\\n",
       "0            7.4              0.70         0.00             1.9      0.076   \n",
       "1            7.8              0.88         0.00             2.6      0.098   \n",
       "2            7.8              0.76         0.04             2.3      0.092   \n",
       "3           11.2              0.28         0.56             1.9      0.075   \n",
       "4            7.4              0.70         0.00             1.9      0.076   \n",
       "\n",
       "   free sulfur dioxide  total sulfur dioxide  density    pH  sulphates  \\\n",
       "0                 11.0                  34.0   0.9978  3.51       0.56   \n",
       "1                 25.0                  67.0   0.9968  3.20       0.68   \n",
       "2                 15.0                  54.0   0.9970  3.26       0.65   \n",
       "3                 17.0                  60.0   0.9980  3.16       0.58   \n",
       "4                 11.0                  34.0   0.9978  3.51       0.56   \n",
       "\n",
       "   alcohol  quality  winetype  \n",
       "0      9.4        5         1  \n",
       "1      9.8        5         1  \n",
       "2      9.8        5         1  \n",
       "3      9.8        6         1  \n",
       "4      9.4        5         1  "
      ]
     },
     "execution_count": 43,
     "metadata": {},
     "output_type": "execute_result"
    }
   ],
   "source": [
    "red.head()"
   ]
  },
  {
   "cell_type": "code",
   "execution_count": 44,
   "id": "32738534",
   "metadata": {},
   "outputs": [
    {
     "data": {
      "text/html": [
       "<div>\n",
       "<style scoped>\n",
       "    .dataframe tbody tr th:only-of-type {\n",
       "        vertical-align: middle;\n",
       "    }\n",
       "\n",
       "    .dataframe tbody tr th {\n",
       "        vertical-align: top;\n",
       "    }\n",
       "\n",
       "    .dataframe thead th {\n",
       "        text-align: right;\n",
       "    }\n",
       "</style>\n",
       "<table border=\"1\" class=\"dataframe\">\n",
       "  <thead>\n",
       "    <tr style=\"text-align: right;\">\n",
       "      <th></th>\n",
       "      <th>fixed acidity</th>\n",
       "      <th>volatile acidity</th>\n",
       "      <th>citric acid</th>\n",
       "      <th>residual sugar</th>\n",
       "      <th>chlorides</th>\n",
       "      <th>free sulfur dioxide</th>\n",
       "      <th>total sulfur dioxide</th>\n",
       "      <th>density</th>\n",
       "      <th>pH</th>\n",
       "      <th>sulphates</th>\n",
       "      <th>alcohol</th>\n",
       "      <th>quality</th>\n",
       "      <th>winetype</th>\n",
       "    </tr>\n",
       "  </thead>\n",
       "  <tbody>\n",
       "    <tr>\n",
       "      <th>0</th>\n",
       "      <td>7.0</td>\n",
       "      <td>0.27</td>\n",
       "      <td>0.36</td>\n",
       "      <td>20.7</td>\n",
       "      <td>0.045</td>\n",
       "      <td>45.0</td>\n",
       "      <td>170.0</td>\n",
       "      <td>1.0010</td>\n",
       "      <td>3.00</td>\n",
       "      <td>0.45</td>\n",
       "      <td>8.8</td>\n",
       "      <td>6</td>\n",
       "      <td>0</td>\n",
       "    </tr>\n",
       "    <tr>\n",
       "      <th>1</th>\n",
       "      <td>6.3</td>\n",
       "      <td>0.30</td>\n",
       "      <td>0.34</td>\n",
       "      <td>1.6</td>\n",
       "      <td>0.049</td>\n",
       "      <td>14.0</td>\n",
       "      <td>132.0</td>\n",
       "      <td>0.9940</td>\n",
       "      <td>3.30</td>\n",
       "      <td>0.49</td>\n",
       "      <td>9.5</td>\n",
       "      <td>6</td>\n",
       "      <td>0</td>\n",
       "    </tr>\n",
       "    <tr>\n",
       "      <th>2</th>\n",
       "      <td>8.1</td>\n",
       "      <td>0.28</td>\n",
       "      <td>0.40</td>\n",
       "      <td>6.9</td>\n",
       "      <td>0.050</td>\n",
       "      <td>30.0</td>\n",
       "      <td>97.0</td>\n",
       "      <td>0.9951</td>\n",
       "      <td>3.26</td>\n",
       "      <td>0.44</td>\n",
       "      <td>10.1</td>\n",
       "      <td>6</td>\n",
       "      <td>0</td>\n",
       "    </tr>\n",
       "    <tr>\n",
       "      <th>3</th>\n",
       "      <td>7.2</td>\n",
       "      <td>0.23</td>\n",
       "      <td>0.32</td>\n",
       "      <td>8.5</td>\n",
       "      <td>0.058</td>\n",
       "      <td>47.0</td>\n",
       "      <td>186.0</td>\n",
       "      <td>0.9956</td>\n",
       "      <td>3.19</td>\n",
       "      <td>0.40</td>\n",
       "      <td>9.9</td>\n",
       "      <td>6</td>\n",
       "      <td>0</td>\n",
       "    </tr>\n",
       "    <tr>\n",
       "      <th>4</th>\n",
       "      <td>7.2</td>\n",
       "      <td>0.23</td>\n",
       "      <td>0.32</td>\n",
       "      <td>8.5</td>\n",
       "      <td>0.058</td>\n",
       "      <td>47.0</td>\n",
       "      <td>186.0</td>\n",
       "      <td>0.9956</td>\n",
       "      <td>3.19</td>\n",
       "      <td>0.40</td>\n",
       "      <td>9.9</td>\n",
       "      <td>6</td>\n",
       "      <td>0</td>\n",
       "    </tr>\n",
       "  </tbody>\n",
       "</table>\n",
       "</div>"
      ],
      "text/plain": [
       "   fixed acidity  volatile acidity  citric acid  residual sugar  chlorides  \\\n",
       "0            7.0              0.27         0.36            20.7      0.045   \n",
       "1            6.3              0.30         0.34             1.6      0.049   \n",
       "2            8.1              0.28         0.40             6.9      0.050   \n",
       "3            7.2              0.23         0.32             8.5      0.058   \n",
       "4            7.2              0.23         0.32             8.5      0.058   \n",
       "\n",
       "   free sulfur dioxide  total sulfur dioxide  density    pH  sulphates  \\\n",
       "0                 45.0                 170.0   1.0010  3.00       0.45   \n",
       "1                 14.0                 132.0   0.9940  3.30       0.49   \n",
       "2                 30.0                  97.0   0.9951  3.26       0.44   \n",
       "3                 47.0                 186.0   0.9956  3.19       0.40   \n",
       "4                 47.0                 186.0   0.9956  3.19       0.40   \n",
       "\n",
       "   alcohol  quality  winetype  \n",
       "0      8.8        6         0  \n",
       "1      9.5        6         0  \n",
       "2     10.1        6         0  \n",
       "3      9.9        6         0  \n",
       "4      9.9        6         0  "
      ]
     },
     "execution_count": 44,
     "metadata": {},
     "output_type": "execute_result"
    }
   ],
   "source": [
    "# combine datasets\n",
    "df = pd.concat([white, red], axis=0)\n",
    "df.head()"
   ]
  },
  {
   "cell_type": "markdown",
   "id": "e4d133b3",
   "metadata": {},
   "source": [
    "2.1 Visualize the univariate distribution of the target feature and each of the three explanatory variables that you think are likely to have a relationship with the target feature. "
   ]
  },
  {
   "cell_type": "markdown",
   "id": "66b9ead0",
   "metadata": {},
   "source": [
    "I chose the following at my three explanatory variables: fixed acidity, which represents a number on the pH scale; residual sugar; and total sulfur dioxide. "
   ]
  },
  {
   "cell_type": "code",
   "execution_count": 45,
   "id": "e6bd7b9f",
   "metadata": {},
   "outputs": [
    {
     "data": {
      "text/plain": [
       "<AxesSubplot: >"
      ]
     },
     "execution_count": 45,
     "metadata": {},
     "output_type": "execute_result"
    },
    {
     "data": {
      "image/png": "[encoded data removed]",
      "text/plain": [
       "<Figure size 432x288 with 1 Axes>"
      ]
     },
     "metadata": {
      "needs_background": "light"
     },
     "output_type": "display_data"
    }
   ],
   "source": [
    "df['fixed acidity'].hist()"
   ]
  },
  {
   "cell_type": "code",
   "execution_count": 46,
   "id": "3475c258",
   "metadata": {},
   "outputs": [
    {
     "data": {
      "text/plain": [
       "<AxesSubplot: >"
      ]
     },
     "execution_count": 46,
     "metadata": {},
     "output_type": "execute_result"
    },
    {
     "data": {
      "image/png": "[encoded data removed]",
      "text/plain": [
       "<Figure size 432x288 with 1 Axes>"
      ]
     },
     "metadata": {
      "needs_background": "light"
     },
     "output_type": "display_data"
    }
   ],
   "source": [
    "df['residual sugar'].hist()"
   ]
  },
  {
   "cell_type": "code",
   "execution_count": 47,
   "id": "9017293f",
   "metadata": {},
   "outputs": [
    {
     "data": {
      "text/plain": [
       "<AxesSubplot: >"
      ]
     },
     "execution_count": 47,
     "metadata": {},
     "output_type": "execute_result"
    },
    {
     "data": {
      "image/png": "[encoded data removed]",
      "text/plain": [
       "<Figure size 432x288 with 1 Axes>"
      ]
     },
     "metadata": {
      "needs_background": "light"
     },
     "output_type": "display_data"
    }
   ],
   "source": [
    "df['total sulfur dioxide'].hist()"
   ]
  },
  {
   "cell_type": "markdown",
   "id": "27991efc",
   "metadata": {},
   "source": [
    "2.2 Split data into training and test set. Build models that evaluate the relationship between all available X variables in the dataset and the target variable. Evaluate Logistic Regression, Penalized Logistic Regression, and KNN for classification using cross-validation. How different are the results? How does scaling the data with StandardScaler influence the results?"
   ]
  },
  {
   "cell_type": "code",
   "execution_count": 48,
   "id": "fd545d5d",
   "metadata": {},
   "outputs": [
    {
     "data": {
      "text/html": [
       "<div>\n",
       "<style scoped>\n",
       "    .dataframe tbody tr th:only-of-type {\n",
       "        vertical-align: middle;\n",
       "    }\n",
       "\n",
       "    .dataframe tbody tr th {\n",
       "        vertical-align: top;\n",
       "    }\n",
       "\n",
       "    .dataframe thead th {\n",
       "        text-align: right;\n",
       "    }\n",
       "</style>\n",
       "<table border=\"1\" class=\"dataframe\">\n",
       "  <thead>\n",
       "    <tr style=\"text-align: right;\">\n",
       "      <th></th>\n",
       "      <th>fixed acidity</th>\n",
       "      <th>volatile acidity</th>\n",
       "      <th>citric acid</th>\n",
       "      <th>residual sugar</th>\n",
       "      <th>chlorides</th>\n",
       "      <th>free sulfur dioxide</th>\n",
       "      <th>total sulfur dioxide</th>\n",
       "      <th>density</th>\n",
       "      <th>pH</th>\n",
       "      <th>sulphates</th>\n",
       "      <th>alcohol</th>\n",
       "      <th>quality</th>\n",
       "    </tr>\n",
       "  </thead>\n",
       "  <tbody>\n",
       "    <tr>\n",
       "      <th>0</th>\n",
       "      <td>7.0</td>\n",
       "      <td>0.27</td>\n",
       "      <td>0.36</td>\n",
       "      <td>20.7</td>\n",
       "      <td>0.045</td>\n",
       "      <td>45.0</td>\n",
       "      <td>170.0</td>\n",
       "      <td>1.0010</td>\n",
       "      <td>3.00</td>\n",
       "      <td>0.45</td>\n",
       "      <td>8.8</td>\n",
       "      <td>6</td>\n",
       "    </tr>\n",
       "    <tr>\n",
       "      <th>1</th>\n",
       "      <td>6.3</td>\n",
       "      <td>0.30</td>\n",
       "      <td>0.34</td>\n",
       "      <td>1.6</td>\n",
       "      <td>0.049</td>\n",
       "      <td>14.0</td>\n",
       "      <td>132.0</td>\n",
       "      <td>0.9940</td>\n",
       "      <td>3.30</td>\n",
       "      <td>0.49</td>\n",
       "      <td>9.5</td>\n",
       "      <td>6</td>\n",
       "    </tr>\n",
       "    <tr>\n",
       "      <th>2</th>\n",
       "      <td>8.1</td>\n",
       "      <td>0.28</td>\n",
       "      <td>0.40</td>\n",
       "      <td>6.9</td>\n",
       "      <td>0.050</td>\n",
       "      <td>30.0</td>\n",
       "      <td>97.0</td>\n",
       "      <td>0.9951</td>\n",
       "      <td>3.26</td>\n",
       "      <td>0.44</td>\n",
       "      <td>10.1</td>\n",
       "      <td>6</td>\n",
       "    </tr>\n",
       "    <tr>\n",
       "      <th>3</th>\n",
       "      <td>7.2</td>\n",
       "      <td>0.23</td>\n",
       "      <td>0.32</td>\n",
       "      <td>8.5</td>\n",
       "      <td>0.058</td>\n",
       "      <td>47.0</td>\n",
       "      <td>186.0</td>\n",
       "      <td>0.9956</td>\n",
       "      <td>3.19</td>\n",
       "      <td>0.40</td>\n",
       "      <td>9.9</td>\n",
       "      <td>6</td>\n",
       "    </tr>\n",
       "    <tr>\n",
       "      <th>4</th>\n",
       "      <td>7.2</td>\n",
       "      <td>0.23</td>\n",
       "      <td>0.32</td>\n",
       "      <td>8.5</td>\n",
       "      <td>0.058</td>\n",
       "      <td>47.0</td>\n",
       "      <td>186.0</td>\n",
       "      <td>0.9956</td>\n",
       "      <td>3.19</td>\n",
       "      <td>0.40</td>\n",
       "      <td>9.9</td>\n",
       "      <td>6</td>\n",
       "    </tr>\n",
       "  </tbody>\n",
       "</table>\n",
       "</div>"
      ],
      "text/plain": [
       "   fixed acidity  volatile acidity  citric acid  residual sugar  chlorides  \\\n",
       "0            7.0              0.27         0.36            20.7      0.045   \n",
       "1            6.3              0.30         0.34             1.6      0.049   \n",
       "2            8.1              0.28         0.40             6.9      0.050   \n",
       "3            7.2              0.23         0.32             8.5      0.058   \n",
       "4            7.2              0.23         0.32             8.5      0.058   \n",
       "\n",
       "   free sulfur dioxide  total sulfur dioxide  density    pH  sulphates  \\\n",
       "0                 45.0                 170.0   1.0010  3.00       0.45   \n",
       "1                 14.0                 132.0   0.9940  3.30       0.49   \n",
       "2                 30.0                  97.0   0.9951  3.26       0.44   \n",
       "3                 47.0                 186.0   0.9956  3.19       0.40   \n",
       "4                 47.0                 186.0   0.9956  3.19       0.40   \n",
       "\n",
       "   alcohol  quality  \n",
       "0      8.8        6  \n",
       "1      9.5        6  \n",
       "2     10.1        6  \n",
       "3      9.9        6  \n",
       "4      9.9        6  "
      ]
     },
     "execution_count": 48,
     "metadata": {},
     "output_type": "execute_result"
    }
   ],
   "source": [
    "# target variable and explanatory variables\n",
    "y1 = df['winetype']\n",
    "X1 = df.loc[:, df.columns!='winetype']\n",
    "X1.head()"
   ]
  },
  {
   "cell_type": "code",
   "execution_count": 49,
   "id": "9b95e1d5",
   "metadata": {},
   "outputs": [],
   "source": [
    "# split data into training and test set\n",
    "X1_train, X1_test, y1_train, y1_test = train_test_split(X1, y1)"
   ]
  },
  {
   "cell_type": "markdown",
   "id": "0ebfd60b",
   "metadata": {},
   "source": [
    "#### Logistic Regression:"
   ]
  },
  {
   "cell_type": "code",
   "execution_count": 50,
   "id": "7d7bedce",
   "metadata": {},
   "outputs": [
    {
     "name": "stderr",
     "output_type": "stream",
     "text": [
      "/usr/local/Cellar/jupyterlab/3.4.5/libexec/lib/python3.10/site-packages/sklearn/linear_model/_logistic.py:444: ConvergenceWarning: lbfgs failed to converge (status=1):\n",
      "STOP: TOTAL NO. of ITERATIONS REACHED LIMIT.\n",
      "\n",
      "Increase the number of iterations (max_iter) or scale the data as shown in:\n",
      "    https://scikit-learn.org/stable/modules/preprocessing.html\n",
      "Please also refer to the documentation for alternative solver options:\n",
      "    https://scikit-learn.org/stable/modules/linear_model.html#logistic-regression\n",
      "  n_iter_i = _check_optimize_result(\n",
      "/usr/local/Cellar/jupyterlab/3.4.5/libexec/lib/python3.10/site-packages/sklearn/linear_model/_logistic.py:444: ConvergenceWarning: lbfgs failed to converge (status=1):\n",
      "STOP: TOTAL NO. of ITERATIONS REACHED LIMIT.\n",
      "\n",
      "Increase the number of iterations (max_iter) or scale the data as shown in:\n",
      "    https://scikit-learn.org/stable/modules/preprocessing.html\n",
      "Please also refer to the documentation for alternative solver options:\n",
      "    https://scikit-learn.org/stable/modules/linear_model.html#logistic-regression\n",
      "  n_iter_i = _check_optimize_result(\n",
      "/usr/local/Cellar/jupyterlab/3.4.5/libexec/lib/python3.10/site-packages/sklearn/linear_model/_logistic.py:444: ConvergenceWarning: lbfgs failed to converge (status=1):\n",
      "STOP: TOTAL NO. of ITERATIONS REACHED LIMIT.\n",
      "\n",
      "Increase the number of iterations (max_iter) or scale the data as shown in:\n",
      "    https://scikit-learn.org/stable/modules/preprocessing.html\n",
      "Please also refer to the documentation for alternative solver options:\n",
      "    https://scikit-learn.org/stable/modules/linear_model.html#logistic-regression\n",
      "  n_iter_i = _check_optimize_result(\n",
      "/usr/local/Cellar/jupyterlab/3.4.5/libexec/lib/python3.10/site-packages/sklearn/linear_model/_logistic.py:444: ConvergenceWarning: lbfgs failed to converge (status=1):\n",
      "STOP: TOTAL NO. of ITERATIONS REACHED LIMIT.\n",
      "\n",
      "Increase the number of iterations (max_iter) or scale the data as shown in:\n",
      "    https://scikit-learn.org/stable/modules/preprocessing.html\n",
      "Please also refer to the documentation for alternative solver options:\n",
      "    https://scikit-learn.org/stable/modules/linear_model.html#logistic-regression\n",
      "  n_iter_i = _check_optimize_result(\n",
      "/usr/local/Cellar/jupyterlab/3.4.5/libexec/lib/python3.10/site-packages/sklearn/linear_model/_logistic.py:444: ConvergenceWarning: lbfgs failed to converge (status=1):\n",
      "STOP: TOTAL NO. of ITERATIONS REACHED LIMIT.\n",
      "\n",
      "Increase the number of iterations (max_iter) or scale the data as shown in:\n",
      "    https://scikit-learn.org/stable/modules/preprocessing.html\n",
      "Please also refer to the documentation for alternative solver options:\n",
      "    https://scikit-learn.org/stable/modules/linear_model.html#logistic-regression\n",
      "  n_iter_i = _check_optimize_result(\n",
      "/usr/local/Cellar/jupyterlab/3.4.5/libexec/lib/python3.10/site-packages/sklearn/linear_model/_logistic.py:444: ConvergenceWarning: lbfgs failed to converge (status=1):\n",
      "STOP: TOTAL NO. of ITERATIONS REACHED LIMIT.\n",
      "\n",
      "Increase the number of iterations (max_iter) or scale the data as shown in:\n",
      "    https://scikit-learn.org/stable/modules/preprocessing.html\n",
      "Please also refer to the documentation for alternative solver options:\n",
      "    https://scikit-learn.org/stable/modules/linear_model.html#logistic-regression\n",
      "  n_iter_i = _check_optimize_result(\n"
     ]
    },
    {
     "data": {
      "text/plain": [
       "0.9811157794977097"
      ]
     },
     "execution_count": 50,
     "metadata": {},
     "output_type": "execute_result"
    }
   ],
   "source": [
    "logreg = LogisticRegression()\n",
    "logreg.fit(X1_train, y1_train)\n",
    "mean(cross_val_score(logreg, X1_train, y1_train))"
   ]
  },
  {
   "cell_type": "markdown",
   "id": "51e3d1f2",
   "metadata": {},
   "source": [
    "#### Penalized Logistic Regression:"
   ]
  },
  {
   "cell_type": "code",
   "execution_count": 51,
   "id": "7f974b97",
   "metadata": {},
   "outputs": [
    {
     "data": {
      "text/plain": [
       "0.9860424366872006"
      ]
     },
     "execution_count": 51,
     "metadata": {},
     "output_type": "execute_result"
    }
   ],
   "source": [
    "logreg_p = LogisticRegression(penalty='l1', solver='liblinear')\n",
    "logreg_p.fit(X1_train, y1_train)\n",
    "mean(cross_val_score(logreg_p, X1_train, y1_train))"
   ]
  },
  {
   "cell_type": "markdown",
   "id": "eee4a3a4",
   "metadata": {},
   "source": [
    "#### K Nearest Neighbors:"
   ]
  },
  {
   "cell_type": "code",
   "execution_count": 52,
   "id": "8da84358",
   "metadata": {},
   "outputs": [
    {
     "data": {
      "text/plain": [
       "0.9404749118096141"
      ]
     },
     "execution_count": 52,
     "metadata": {},
     "output_type": "execute_result"
    }
   ],
   "source": [
    "knn = KNeighborsClassifier()\n",
    "knn.fit(X1_train, y1_train)\n",
    "mean(cross_val_score(knn, X1_train, y1_train))"
   ]
  },
  {
   "cell_type": "markdown",
   "id": "bb5a751b",
   "metadata": {},
   "source": [
    "2.3 Tune the parameters where possible using GridSearchCV. Do the results improve?"
   ]
  },
  {
   "cell_type": "code",
   "execution_count": 53,
   "id": "e2c1a808",
   "metadata": {},
   "outputs": [
    {
     "name": "stderr",
     "output_type": "stream",
     "text": [
      "/usr/local/Cellar/jupyterlab/3.4.5/libexec/lib/python3.10/site-packages/sklearn/linear_model/_logistic.py:432: RuntimeWarning: divide by zero encountered in divide\n",
      "  l2_reg_strength = 1.0 / C\n",
      "/usr/local/Cellar/jupyterlab/3.4.5/libexec/lib/python3.10/site-packages/sklearn/linear_model/_linear_loss.py:198: RuntimeWarning: invalid value encountered in double_scalars\n",
      "  loss += 0.5 * l2_reg_strength * (weights @ weights)\n",
      "/usr/local/Cellar/jupyterlab/3.4.5/libexec/lib/python3.10/site-packages/sklearn/linear_model/_linear_loss.py:200: RuntimeWarning: invalid value encountered in multiply\n",
      "  grad[:n_features] = X.T @ grad_per_sample + l2_reg_strength * weights\n",
      "/usr/local/Cellar/jupyterlab/3.4.5/libexec/lib/python3.10/site-packages/sklearn/linear_model/_logistic.py:444: ConvergenceWarning: lbfgs failed to converge (status=2):\n",
      "ABNORMAL_TERMINATION_IN_LNSRCH.\n",
      "\n",
      "Increase the number of iterations (max_iter) or scale the data as shown in:\n",
      "    https://scikit-learn.org/stable/modules/preprocessing.html\n",
      "Please also refer to the documentation for alternative solver options:\n",
      "    https://scikit-learn.org/stable/modules/linear_model.html#logistic-regression\n",
      "  n_iter_i = _check_optimize_result(\n",
      "/usr/local/Cellar/jupyterlab/3.4.5/libexec/lib/python3.10/site-packages/sklearn/linear_model/_logistic.py:432: RuntimeWarning: divide by zero encountered in divide\n",
      "  l2_reg_strength = 1.0 / C\n",
      "/usr/local/Cellar/jupyterlab/3.4.5/libexec/lib/python3.10/site-packages/sklearn/linear_model/_linear_loss.py:198: RuntimeWarning: invalid value encountered in double_scalars\n",
      "  loss += 0.5 * l2_reg_strength * (weights @ weights)\n",
      "/usr/local/Cellar/jupyterlab/3.4.5/libexec/lib/python3.10/site-packages/sklearn/linear_model/_linear_loss.py:200: RuntimeWarning: invalid value encountered in multiply\n",
      "  grad[:n_features] = X.T @ grad_per_sample + l2_reg_strength * weights\n",
      "/usr/local/Cellar/jupyterlab/3.4.5/libexec/lib/python3.10/site-packages/sklearn/linear_model/_logistic.py:444: ConvergenceWarning: lbfgs failed to converge (status=2):\n",
      "ABNORMAL_TERMINATION_IN_LNSRCH.\n",
      "\n",
      "Increase the number of iterations (max_iter) or scale the data as shown in:\n",
      "    https://scikit-learn.org/stable/modules/preprocessing.html\n",
      "Please also refer to the documentation for alternative solver options:\n",
      "    https://scikit-learn.org/stable/modules/linear_model.html#logistic-regression\n",
      "  n_iter_i = _check_optimize_result(\n",
      "/usr/local/Cellar/jupyterlab/3.4.5/libexec/lib/python3.10/site-packages/sklearn/linear_model/_logistic.py:432: RuntimeWarning: divide by zero encountered in divide\n",
      "  l2_reg_strength = 1.0 / C\n",
      "/usr/local/Cellar/jupyterlab/3.4.5/libexec/lib/python3.10/site-packages/sklearn/linear_model/_linear_loss.py:198: RuntimeWarning: invalid value encountered in double_scalars\n",
      "  loss += 0.5 * l2_reg_strength * (weights @ weights)\n",
      "/usr/local/Cellar/jupyterlab/3.4.5/libexec/lib/python3.10/site-packages/sklearn/linear_model/_linear_loss.py:200: RuntimeWarning: invalid value encountered in multiply\n",
      "  grad[:n_features] = X.T @ grad_per_sample + l2_reg_strength * weights\n",
      "/usr/local/Cellar/jupyterlab/3.4.5/libexec/lib/python3.10/site-packages/sklearn/linear_model/_logistic.py:444: ConvergenceWarning: lbfgs failed to converge (status=2):\n",
      "ABNORMAL_TERMINATION_IN_LNSRCH.\n",
      "\n",
      "Increase the number of iterations (max_iter) or scale the data as shown in:\n",
      "    https://scikit-learn.org/stable/modules/preprocessing.html\n",
      "Please also refer to the documentation for alternative solver options:\n",
      "    https://scikit-learn.org/stable/modules/linear_model.html#logistic-regression\n",
      "  n_iter_i = _check_optimize_result(\n",
      "/usr/local/Cellar/jupyterlab/3.4.5/libexec/lib/python3.10/site-packages/sklearn/linear_model/_logistic.py:432: RuntimeWarning: divide by zero encountered in divide\n",
      "  l2_reg_strength = 1.0 / C\n",
      "/usr/local/Cellar/jupyterlab/3.4.5/libexec/lib/python3.10/site-packages/sklearn/linear_model/_linear_loss.py:198: RuntimeWarning: invalid value encountered in double_scalars\n",
      "  loss += 0.5 * l2_reg_strength * (weights @ weights)\n",
      "/usr/local/Cellar/jupyterlab/3.4.5/libexec/lib/python3.10/site-packages/sklearn/linear_model/_linear_loss.py:200: RuntimeWarning: invalid value encountered in multiply\n",
      "  grad[:n_features] = X.T @ grad_per_sample + l2_reg_strength * weights\n",
      "/usr/local/Cellar/jupyterlab/3.4.5/libexec/lib/python3.10/site-packages/sklearn/linear_model/_logistic.py:444: ConvergenceWarning: lbfgs failed to converge (status=2):\n",
      "ABNORMAL_TERMINATION_IN_LNSRCH.\n",
      "\n",
      "Increase the number of iterations (max_iter) or scale the data as shown in:\n",
      "    https://scikit-learn.org/stable/modules/preprocessing.html\n",
      "Please also refer to the documentation for alternative solver options:\n",
      "    https://scikit-learn.org/stable/modules/linear_model.html#logistic-regression\n",
      "  n_iter_i = _check_optimize_result(\n",
      "/usr/local/Cellar/jupyterlab/3.4.5/libexec/lib/python3.10/site-packages/sklearn/linear_model/_logistic.py:432: RuntimeWarning: divide by zero encountered in divide\n",
      "  l2_reg_strength = 1.0 / C\n",
      "/usr/local/Cellar/jupyterlab/3.4.5/libexec/lib/python3.10/site-packages/sklearn/linear_model/_linear_loss.py:198: RuntimeWarning: invalid value encountered in double_scalars\n",
      "  loss += 0.5 * l2_reg_strength * (weights @ weights)\n",
      "/usr/local/Cellar/jupyterlab/3.4.5/libexec/lib/python3.10/site-packages/sklearn/linear_model/_linear_loss.py:200: RuntimeWarning: invalid value encountered in multiply\n",
      "  grad[:n_features] = X.T @ grad_per_sample + l2_reg_strength * weights\n",
      "/usr/local/Cellar/jupyterlab/3.4.5/libexec/lib/python3.10/site-packages/sklearn/linear_model/_logistic.py:444: ConvergenceWarning: lbfgs failed to converge (status=2):\n",
      "ABNORMAL_TERMINATION_IN_LNSRCH.\n",
      "\n",
      "Increase the number of iterations (max_iter) or scale the data as shown in:\n",
      "    https://scikit-learn.org/stable/modules/preprocessing.html\n",
      "Please also refer to the documentation for alternative solver options:\n",
      "    https://scikit-learn.org/stable/modules/linear_model.html#logistic-regression\n",
      "  n_iter_i = _check_optimize_result(\n"
     ]
    },
    {
     "name": "stdout",
     "output_type": "stream",
     "text": [
      "{'logisticregression__C': 3}\n",
      "0.9975384615384615\n"
     ]
    }
   ],
   "source": [
    "logreg_pipe = make_pipeline(StandardScaler(), LogisticRegression())\n",
    "param_grid_logreg = {'logisticregression__C': np.arange(0,5)}\n",
    "grid_logreg = GridSearchCV(logreg_pipe, param_grid_logreg)\n",
    "grid_logreg.fit(X1_train, y1_train)\n",
    "print(grid_logreg.best_params_)\n",
    "print(grid_logreg.score(X1_test, y1_test))"
   ]
  },
  {
   "cell_type": "code",
   "execution_count": 54,
   "id": "39b3b32e",
   "metadata": {},
   "outputs": [
    {
     "name": "stdout",
     "output_type": "stream",
     "text": [
      "{'logisticregression__C': 1}\n",
      "0.9975384615384615\n"
     ]
    },
    {
     "name": "stderr",
     "output_type": "stream",
     "text": [
      "/usr/local/Cellar/jupyterlab/3.4.5/libexec/lib/python3.10/site-packages/sklearn/model_selection/_validation.py:378: FitFailedWarning: \n",
      "5 fits failed out of a total of 25.\n",
      "The score on these train-test partitions for these parameters will be set to nan.\n",
      "If these failures are not expected, you can try to debug them by setting error_score='raise'.\n",
      "\n",
      "Below are more details about the failures:\n",
      "--------------------------------------------------------------------------------\n",
      "5 fits failed with the following error:\n",
      "Traceback (most recent call last):\n",
      "  File \"/usr/local/Cellar/jupyterlab/3.4.5/libexec/lib/python3.10/site-packages/sklearn/model_selection/_validation.py\", line 686, in _fit_and_score\n",
      "    estimator.fit(X_train, y_train, **fit_params)\n",
      "  File \"/usr/local/Cellar/jupyterlab/3.4.5/libexec/lib/python3.10/site-packages/sklearn/pipeline.py\", line 382, in fit\n",
      "    self._final_estimator.fit(Xt, y, **fit_params_last_step)\n",
      "  File \"/usr/local/Cellar/jupyterlab/3.4.5/libexec/lib/python3.10/site-packages/sklearn/linear_model/_logistic.py\", line 1158, in fit\n",
      "    self.coef_, self.intercept_, self.n_iter_ = _fit_liblinear(\n",
      "  File \"/usr/local/Cellar/jupyterlab/3.4.5/libexec/lib/python3.10/site-packages/sklearn/svm/_base.py\", line 1205, in _fit_liblinear\n",
      "    raw_coef_, n_iter_ = liblinear.train_wrap(\n",
      "  File \"sklearn/svm/_liblinear.pyx\", line 52, in sklearn.svm._liblinear.train_wrap\n",
      "ValueError: b'C <= 0'\n",
      "\n",
      "  warnings.warn(some_fits_failed_message, FitFailedWarning)\n",
      "/usr/local/Cellar/jupyterlab/3.4.5/libexec/lib/python3.10/site-packages/sklearn/model_selection/_search.py:953: UserWarning: One or more of the test scores are non-finite: [       nan 0.9928163  0.99240562 0.99240562 0.99240562]\n",
      "  warnings.warn(\n"
     ]
    }
   ],
   "source": [
    "logreg_p_pipe = make_pipeline(StandardScaler(), LogisticRegression(penalty='l1', solver='liblinear'))\n",
    "param_grid_logreg_p = {'logisticregression__C': np.arange(0,5)}\n",
    "grid_logreg_p = GridSearchCV(logreg_p_pipe, param_grid_logreg_p)\n",
    "grid_logreg_p.fit(X1_train, y1_train)\n",
    "print(grid_logreg_p.best_params_)\n",
    "print(grid_logreg_p.score(X1_test, y1_test))"
   ]
  },
  {
   "cell_type": "code",
   "execution_count": 55,
   "id": "53463c18",
   "metadata": {},
   "outputs": [
    {
     "name": "stdout",
     "output_type": "stream",
     "text": [
      "{'kneighborsclassifier__n_neighbors': 4}\n",
      "0.992\n"
     ]
    }
   ],
   "source": [
    "knn_pipe = make_pipeline(StandardScaler(), KNeighborsClassifier())\n",
    "param_grid_knn = {'kneighborsclassifier__n_neighbors': range(1, 5)}\n",
    "grid_knn = GridSearchCV(knn_pipe, param_grid_knn)\n",
    "##\n",
    "grid_knn.fit(X1_train, y1_train)\n",
    "print(grid_knn.best_params_)\n",
    "print(grid_knn.score(X1_test, y1_test))"
   ]
  },
  {
   "cell_type": "markdown",
   "id": "0e3e5a97",
   "metadata": {},
   "source": [
    "For each regression model, the results improved, but mainly for kneighborsclassifier."
   ]
  },
  {
   "cell_type": "markdown",
   "id": "460589de",
   "metadata": {},
   "source": [
    "2.4 Change the cross-validation strategy in GridSearchCV from ‘stratified k-fold’ to ‘kfold’ with shuffling. Do the parameters for models that can be tuned change? Do they change if you change the random seed of the shuffling? Or if you change the random state of the split into training and test data?"
   ]
  },
  {
   "cell_type": "code",
   "execution_count": 61,
   "id": "ee6bb022",
   "metadata": {},
   "outputs": [],
   "source": [
    "# kfold parameters defined earlier \n",
    "kf2 = KFold(shuffle=True, random_state=100)"
   ]
  },
  {
   "cell_type": "code",
   "execution_count": 57,
   "id": "426aed2a",
   "metadata": {},
   "outputs": [
    {
     "name": "stderr",
     "output_type": "stream",
     "text": [
      "/usr/local/Cellar/jupyterlab/3.4.5/libexec/lib/python3.10/site-packages/sklearn/linear_model/_logistic.py:432: RuntimeWarning: divide by zero encountered in divide\n",
      "  l2_reg_strength = 1.0 / C\n",
      "/usr/local/Cellar/jupyterlab/3.4.5/libexec/lib/python3.10/site-packages/sklearn/linear_model/_linear_loss.py:198: RuntimeWarning: invalid value encountered in double_scalars\n",
      "  loss += 0.5 * l2_reg_strength * (weights @ weights)\n",
      "/usr/local/Cellar/jupyterlab/3.4.5/libexec/lib/python3.10/site-packages/sklearn/linear_model/_linear_loss.py:200: RuntimeWarning: invalid value encountered in multiply\n",
      "  grad[:n_features] = X.T @ grad_per_sample + l2_reg_strength * weights\n",
      "/usr/local/Cellar/jupyterlab/3.4.5/libexec/lib/python3.10/site-packages/sklearn/linear_model/_logistic.py:444: ConvergenceWarning: lbfgs failed to converge (status=2):\n",
      "ABNORMAL_TERMINATION_IN_LNSRCH.\n",
      "\n",
      "Increase the number of iterations (max_iter) or scale the data as shown in:\n",
      "    https://scikit-learn.org/stable/modules/preprocessing.html\n",
      "Please also refer to the documentation for alternative solver options:\n",
      "    https://scikit-learn.org/stable/modules/linear_model.html#logistic-regression\n",
      "  n_iter_i = _check_optimize_result(\n",
      "/usr/local/Cellar/jupyterlab/3.4.5/libexec/lib/python3.10/site-packages/sklearn/linear_model/_logistic.py:432: RuntimeWarning: divide by zero encountered in divide\n",
      "  l2_reg_strength = 1.0 / C\n",
      "/usr/local/Cellar/jupyterlab/3.4.5/libexec/lib/python3.10/site-packages/sklearn/linear_model/_linear_loss.py:198: RuntimeWarning: invalid value encountered in double_scalars\n",
      "  loss += 0.5 * l2_reg_strength * (weights @ weights)\n",
      "/usr/local/Cellar/jupyterlab/3.4.5/libexec/lib/python3.10/site-packages/sklearn/linear_model/_linear_loss.py:200: RuntimeWarning: invalid value encountered in multiply\n",
      "  grad[:n_features] = X.T @ grad_per_sample + l2_reg_strength * weights\n",
      "/usr/local/Cellar/jupyterlab/3.4.5/libexec/lib/python3.10/site-packages/sklearn/linear_model/_logistic.py:444: ConvergenceWarning: lbfgs failed to converge (status=2):\n",
      "ABNORMAL_TERMINATION_IN_LNSRCH.\n",
      "\n",
      "Increase the number of iterations (max_iter) or scale the data as shown in:\n",
      "    https://scikit-learn.org/stable/modules/preprocessing.html\n",
      "Please also refer to the documentation for alternative solver options:\n",
      "    https://scikit-learn.org/stable/modules/linear_model.html#logistic-regression\n",
      "  n_iter_i = _check_optimize_result(\n",
      "/usr/local/Cellar/jupyterlab/3.4.5/libexec/lib/python3.10/site-packages/sklearn/linear_model/_logistic.py:432: RuntimeWarning: divide by zero encountered in divide\n",
      "  l2_reg_strength = 1.0 / C\n",
      "/usr/local/Cellar/jupyterlab/3.4.5/libexec/lib/python3.10/site-packages/sklearn/linear_model/_linear_loss.py:198: RuntimeWarning: invalid value encountered in double_scalars\n",
      "  loss += 0.5 * l2_reg_strength * (weights @ weights)\n",
      "/usr/local/Cellar/jupyterlab/3.4.5/libexec/lib/python3.10/site-packages/sklearn/linear_model/_linear_loss.py:200: RuntimeWarning: invalid value encountered in multiply\n",
      "  grad[:n_features] = X.T @ grad_per_sample + l2_reg_strength * weights\n",
      "/usr/local/Cellar/jupyterlab/3.4.5/libexec/lib/python3.10/site-packages/sklearn/linear_model/_logistic.py:444: ConvergenceWarning: lbfgs failed to converge (status=2):\n",
      "ABNORMAL_TERMINATION_IN_LNSRCH.\n",
      "\n",
      "Increase the number of iterations (max_iter) or scale the data as shown in:\n",
      "    https://scikit-learn.org/stable/modules/preprocessing.html\n",
      "Please also refer to the documentation for alternative solver options:\n",
      "    https://scikit-learn.org/stable/modules/linear_model.html#logistic-regression\n",
      "  n_iter_i = _check_optimize_result(\n",
      "/usr/local/Cellar/jupyterlab/3.4.5/libexec/lib/python3.10/site-packages/sklearn/linear_model/_logistic.py:432: RuntimeWarning: divide by zero encountered in divide\n",
      "  l2_reg_strength = 1.0 / C\n",
      "/usr/local/Cellar/jupyterlab/3.4.5/libexec/lib/python3.10/site-packages/sklearn/linear_model/_linear_loss.py:198: RuntimeWarning: invalid value encountered in double_scalars\n",
      "  loss += 0.5 * l2_reg_strength * (weights @ weights)\n",
      "/usr/local/Cellar/jupyterlab/3.4.5/libexec/lib/python3.10/site-packages/sklearn/linear_model/_linear_loss.py:200: RuntimeWarning: invalid value encountered in multiply\n",
      "  grad[:n_features] = X.T @ grad_per_sample + l2_reg_strength * weights\n",
      "/usr/local/Cellar/jupyterlab/3.4.5/libexec/lib/python3.10/site-packages/sklearn/linear_model/_logistic.py:444: ConvergenceWarning: lbfgs failed to converge (status=2):\n",
      "ABNORMAL_TERMINATION_IN_LNSRCH.\n",
      "\n",
      "Increase the number of iterations (max_iter) or scale the data as shown in:\n",
      "    https://scikit-learn.org/stable/modules/preprocessing.html\n",
      "Please also refer to the documentation for alternative solver options:\n",
      "    https://scikit-learn.org/stable/modules/linear_model.html#logistic-regression\n",
      "  n_iter_i = _check_optimize_result(\n",
      "/usr/local/Cellar/jupyterlab/3.4.5/libexec/lib/python3.10/site-packages/sklearn/linear_model/_logistic.py:432: RuntimeWarning: divide by zero encountered in divide\n",
      "  l2_reg_strength = 1.0 / C\n",
      "/usr/local/Cellar/jupyterlab/3.4.5/libexec/lib/python3.10/site-packages/sklearn/linear_model/_linear_loss.py:198: RuntimeWarning: invalid value encountered in double_scalars\n",
      "  loss += 0.5 * l2_reg_strength * (weights @ weights)\n",
      "/usr/local/Cellar/jupyterlab/3.4.5/libexec/lib/python3.10/site-packages/sklearn/linear_model/_linear_loss.py:200: RuntimeWarning: invalid value encountered in multiply\n",
      "  grad[:n_features] = X.T @ grad_per_sample + l2_reg_strength * weights\n",
      "/usr/local/Cellar/jupyterlab/3.4.5/libexec/lib/python3.10/site-packages/sklearn/linear_model/_logistic.py:444: ConvergenceWarning: lbfgs failed to converge (status=2):\n",
      "ABNORMAL_TERMINATION_IN_LNSRCH.\n",
      "\n",
      "Increase the number of iterations (max_iter) or scale the data as shown in:\n",
      "    https://scikit-learn.org/stable/modules/preprocessing.html\n",
      "Please also refer to the documentation for alternative solver options:\n",
      "    https://scikit-learn.org/stable/modules/linear_model.html#logistic-regression\n",
      "  n_iter_i = _check_optimize_result(\n"
     ]
    },
    {
     "name": "stdout",
     "output_type": "stream",
     "text": [
      "{'logisticregression__C': 3}\n",
      "0.9975384615384615\n"
     ]
    },
    {
     "name": "stderr",
     "output_type": "stream",
     "text": [
      "/usr/local/Cellar/jupyterlab/3.4.5/libexec/lib/python3.10/site-packages/sklearn/linear_model/_logistic.py:432: RuntimeWarning: divide by zero encountered in divide\n",
      "  l2_reg_strength = 1.0 / C\n",
      "/usr/local/Cellar/jupyterlab/3.4.5/libexec/lib/python3.10/site-packages/sklearn/linear_model/_linear_loss.py:198: RuntimeWarning: invalid value encountered in double_scalars\n",
      "  loss += 0.5 * l2_reg_strength * (weights @ weights)\n",
      "/usr/local/Cellar/jupyterlab/3.4.5/libexec/lib/python3.10/site-packages/sklearn/linear_model/_linear_loss.py:200: RuntimeWarning: invalid value encountered in multiply\n",
      "  grad[:n_features] = X.T @ grad_per_sample + l2_reg_strength * weights\n",
      "/usr/local/Cellar/jupyterlab/3.4.5/libexec/lib/python3.10/site-packages/sklearn/linear_model/_logistic.py:444: ConvergenceWarning: lbfgs failed to converge (status=2):\n",
      "ABNORMAL_TERMINATION_IN_LNSRCH.\n",
      "\n",
      "Increase the number of iterations (max_iter) or scale the data as shown in:\n",
      "    https://scikit-learn.org/stable/modules/preprocessing.html\n",
      "Please also refer to the documentation for alternative solver options:\n",
      "    https://scikit-learn.org/stable/modules/linear_model.html#logistic-regression\n",
      "  n_iter_i = _check_optimize_result(\n",
      "/usr/local/Cellar/jupyterlab/3.4.5/libexec/lib/python3.10/site-packages/sklearn/linear_model/_logistic.py:432: RuntimeWarning: divide by zero encountered in divide\n",
      "  l2_reg_strength = 1.0 / C\n",
      "/usr/local/Cellar/jupyterlab/3.4.5/libexec/lib/python3.10/site-packages/sklearn/linear_model/_linear_loss.py:198: RuntimeWarning: invalid value encountered in double_scalars\n",
      "  loss += 0.5 * l2_reg_strength * (weights @ weights)\n",
      "/usr/local/Cellar/jupyterlab/3.4.5/libexec/lib/python3.10/site-packages/sklearn/linear_model/_linear_loss.py:200: RuntimeWarning: invalid value encountered in multiply\n",
      "  grad[:n_features] = X.T @ grad_per_sample + l2_reg_strength * weights\n",
      "/usr/local/Cellar/jupyterlab/3.4.5/libexec/lib/python3.10/site-packages/sklearn/linear_model/_logistic.py:444: ConvergenceWarning: lbfgs failed to converge (status=2):\n",
      "ABNORMAL_TERMINATION_IN_LNSRCH.\n",
      "\n",
      "Increase the number of iterations (max_iter) or scale the data as shown in:\n",
      "    https://scikit-learn.org/stable/modules/preprocessing.html\n",
      "Please also refer to the documentation for alternative solver options:\n",
      "    https://scikit-learn.org/stable/modules/linear_model.html#logistic-regression\n",
      "  n_iter_i = _check_optimize_result(\n",
      "/usr/local/Cellar/jupyterlab/3.4.5/libexec/lib/python3.10/site-packages/sklearn/linear_model/_logistic.py:432: RuntimeWarning: divide by zero encountered in divide\n",
      "  l2_reg_strength = 1.0 / C\n",
      "/usr/local/Cellar/jupyterlab/3.4.5/libexec/lib/python3.10/site-packages/sklearn/linear_model/_linear_loss.py:198: RuntimeWarning: invalid value encountered in double_scalars\n",
      "  loss += 0.5 * l2_reg_strength * (weights @ weights)\n",
      "/usr/local/Cellar/jupyterlab/3.4.5/libexec/lib/python3.10/site-packages/sklearn/linear_model/_linear_loss.py:200: RuntimeWarning: invalid value encountered in multiply\n",
      "  grad[:n_features] = X.T @ grad_per_sample + l2_reg_strength * weights\n",
      "/usr/local/Cellar/jupyterlab/3.4.5/libexec/lib/python3.10/site-packages/sklearn/linear_model/_logistic.py:444: ConvergenceWarning: lbfgs failed to converge (status=2):\n",
      "ABNORMAL_TERMINATION_IN_LNSRCH.\n",
      "\n",
      "Increase the number of iterations (max_iter) or scale the data as shown in:\n",
      "    https://scikit-learn.org/stable/modules/preprocessing.html\n",
      "Please also refer to the documentation for alternative solver options:\n",
      "    https://scikit-learn.org/stable/modules/linear_model.html#logistic-regression\n",
      "  n_iter_i = _check_optimize_result(\n",
      "/usr/local/Cellar/jupyterlab/3.4.5/libexec/lib/python3.10/site-packages/sklearn/linear_model/_logistic.py:432: RuntimeWarning: divide by zero encountered in divide\n",
      "  l2_reg_strength = 1.0 / C\n",
      "/usr/local/Cellar/jupyterlab/3.4.5/libexec/lib/python3.10/site-packages/sklearn/linear_model/_linear_loss.py:198: RuntimeWarning: invalid value encountered in double_scalars\n",
      "  loss += 0.5 * l2_reg_strength * (weights @ weights)\n",
      "/usr/local/Cellar/jupyterlab/3.4.5/libexec/lib/python3.10/site-packages/sklearn/linear_model/_linear_loss.py:200: RuntimeWarning: invalid value encountered in multiply\n",
      "  grad[:n_features] = X.T @ grad_per_sample + l2_reg_strength * weights\n",
      "/usr/local/Cellar/jupyterlab/3.4.5/libexec/lib/python3.10/site-packages/sklearn/linear_model/_logistic.py:444: ConvergenceWarning: lbfgs failed to converge (status=2):\n",
      "ABNORMAL_TERMINATION_IN_LNSRCH.\n",
      "\n",
      "Increase the number of iterations (max_iter) or scale the data as shown in:\n",
      "    https://scikit-learn.org/stable/modules/preprocessing.html\n",
      "Please also refer to the documentation for alternative solver options:\n",
      "    https://scikit-learn.org/stable/modules/linear_model.html#logistic-regression\n",
      "  n_iter_i = _check_optimize_result(\n",
      "/usr/local/Cellar/jupyterlab/3.4.5/libexec/lib/python3.10/site-packages/sklearn/linear_model/_logistic.py:432: RuntimeWarning: divide by zero encountered in divide\n",
      "  l2_reg_strength = 1.0 / C\n",
      "/usr/local/Cellar/jupyterlab/3.4.5/libexec/lib/python3.10/site-packages/sklearn/linear_model/_linear_loss.py:198: RuntimeWarning: invalid value encountered in double_scalars\n",
      "  loss += 0.5 * l2_reg_strength * (weights @ weights)\n",
      "/usr/local/Cellar/jupyterlab/3.4.5/libexec/lib/python3.10/site-packages/sklearn/linear_model/_linear_loss.py:200: RuntimeWarning: invalid value encountered in multiply\n",
      "  grad[:n_features] = X.T @ grad_per_sample + l2_reg_strength * weights\n",
      "/usr/local/Cellar/jupyterlab/3.4.5/libexec/lib/python3.10/site-packages/sklearn/linear_model/_logistic.py:444: ConvergenceWarning: lbfgs failed to converge (status=2):\n",
      "ABNORMAL_TERMINATION_IN_LNSRCH.\n",
      "\n",
      "Increase the number of iterations (max_iter) or scale the data as shown in:\n",
      "    https://scikit-learn.org/stable/modules/preprocessing.html\n",
      "Please also refer to the documentation for alternative solver options:\n",
      "    https://scikit-learn.org/stable/modules/linear_model.html#logistic-regression\n",
      "  n_iter_i = _check_optimize_result(\n"
     ]
    },
    {
     "name": "stdout",
     "output_type": "stream",
     "text": [
      "{'logisticregression__C': 3}\n",
      "0.9975384615384615\n"
     ]
    }
   ],
   "source": [
    "logreg_pipe = make_pipeline(StandardScaler(), LogisticRegression())\n",
    "param_grid_logreg = {'logisticregression__C': np.arange(0,5)}\n",
    "grid_logreg1 = GridSearchCV(logreg_pipe, param_grid_logreg, cv=kf)\n",
    "grid_logreg1.fit(X1_train, y1_train)\n",
    "print(grid_logreg1.best_params_)\n",
    "print(grid_logreg1.score(X1_test, y1_test))\n",
    "grid_logreg2 = GridSearchCV(logreg_pipe, param_grid_logreg, cv=kf2)\n",
    "grid_logreg2.fit(X1_train, y1_train)\n",
    "print(grid_logreg2.best_params_)\n",
    "print(grid_logreg2.score(X1_test, y1_test))"
   ]
  },
  {
   "cell_type": "code",
   "execution_count": 58,
   "id": "5dbf678c",
   "metadata": {},
   "outputs": [
    {
     "name": "stderr",
     "output_type": "stream",
     "text": [
      "/usr/local/Cellar/jupyterlab/3.4.5/libexec/lib/python3.10/site-packages/sklearn/model_selection/_validation.py:378: FitFailedWarning: \n",
      "5 fits failed out of a total of 25.\n",
      "The score on these train-test partitions for these parameters will be set to nan.\n",
      "If these failures are not expected, you can try to debug them by setting error_score='raise'.\n",
      "\n",
      "Below are more details about the failures:\n",
      "--------------------------------------------------------------------------------\n",
      "5 fits failed with the following error:\n",
      "Traceback (most recent call last):\n",
      "  File \"/usr/local/Cellar/jupyterlab/3.4.5/libexec/lib/python3.10/site-packages/sklearn/model_selection/_validation.py\", line 686, in _fit_and_score\n",
      "    estimator.fit(X_train, y_train, **fit_params)\n",
      "  File \"/usr/local/Cellar/jupyterlab/3.4.5/libexec/lib/python3.10/site-packages/sklearn/pipeline.py\", line 382, in fit\n",
      "    self._final_estimator.fit(Xt, y, **fit_params_last_step)\n",
      "  File \"/usr/local/Cellar/jupyterlab/3.4.5/libexec/lib/python3.10/site-packages/sklearn/linear_model/_logistic.py\", line 1158, in fit\n",
      "    self.coef_, self.intercept_, self.n_iter_ = _fit_liblinear(\n",
      "  File \"/usr/local/Cellar/jupyterlab/3.4.5/libexec/lib/python3.10/site-packages/sklearn/svm/_base.py\", line 1205, in _fit_liblinear\n",
      "    raw_coef_, n_iter_ = liblinear.train_wrap(\n",
      "  File \"sklearn/svm/_liblinear.pyx\", line 52, in sklearn.svm._liblinear.train_wrap\n",
      "ValueError: b'C <= 0'\n",
      "\n",
      "  warnings.warn(some_fits_failed_message, FitFailedWarning)\n",
      "/usr/local/Cellar/jupyterlab/3.4.5/libexec/lib/python3.10/site-packages/sklearn/model_selection/_search.py:953: UserWarning: One or more of the test scores are non-finite: [       nan 0.9928163  0.9928163  0.9928163  0.99261096]\n",
      "  warnings.warn(\n"
     ]
    },
    {
     "name": "stdout",
     "output_type": "stream",
     "text": [
      "{'logisticregression__C': 1}\n",
      "0.9975384615384615\n",
      "{'logisticregression__C': 2}\n",
      "0.9975384615384615\n"
     ]
    },
    {
     "name": "stderr",
     "output_type": "stream",
     "text": [
      "/usr/local/Cellar/jupyterlab/3.4.5/libexec/lib/python3.10/site-packages/sklearn/model_selection/_validation.py:378: FitFailedWarning: \n",
      "5 fits failed out of a total of 25.\n",
      "The score on these train-test partitions for these parameters will be set to nan.\n",
      "If these failures are not expected, you can try to debug them by setting error_score='raise'.\n",
      "\n",
      "Below are more details about the failures:\n",
      "--------------------------------------------------------------------------------\n",
      "5 fits failed with the following error:\n",
      "Traceback (most recent call last):\n",
      "  File \"/usr/local/Cellar/jupyterlab/3.4.5/libexec/lib/python3.10/site-packages/sklearn/model_selection/_validation.py\", line 686, in _fit_and_score\n",
      "    estimator.fit(X_train, y_train, **fit_params)\n",
      "  File \"/usr/local/Cellar/jupyterlab/3.4.5/libexec/lib/python3.10/site-packages/sklearn/pipeline.py\", line 382, in fit\n",
      "    self._final_estimator.fit(Xt, y, **fit_params_last_step)\n",
      "  File \"/usr/local/Cellar/jupyterlab/3.4.5/libexec/lib/python3.10/site-packages/sklearn/linear_model/_logistic.py\", line 1158, in fit\n",
      "    self.coef_, self.intercept_, self.n_iter_ = _fit_liblinear(\n",
      "  File \"/usr/local/Cellar/jupyterlab/3.4.5/libexec/lib/python3.10/site-packages/sklearn/svm/_base.py\", line 1205, in _fit_liblinear\n",
      "    raw_coef_, n_iter_ = liblinear.train_wrap(\n",
      "  File \"sklearn/svm/_liblinear.pyx\", line 52, in sklearn.svm._liblinear.train_wrap\n",
      "ValueError: b'C <= 0'\n",
      "\n",
      "  warnings.warn(some_fits_failed_message, FitFailedWarning)\n",
      "/usr/local/Cellar/jupyterlab/3.4.5/libexec/lib/python3.10/site-packages/sklearn/model_selection/_search.py:953: UserWarning: One or more of the test scores are non-finite: [       nan 0.99281609 0.99302143 0.99302143 0.9928163 ]\n",
      "  warnings.warn(\n"
     ]
    }
   ],
   "source": [
    "logreg_p_pipe = make_pipeline(StandardScaler(), LogisticRegression(penalty='l1', solver='liblinear'))\n",
    "param_grid_logreg_p = {'logisticregression__C': np.arange(0,5)}\n",
    "grid_logreg_p = GridSearchCV(logreg_p_pipe, param_grid_logreg_p, cv=kf)\n",
    "grid_logreg_p.fit(X1_train, y1_train)\n",
    "print(grid_logreg_p.best_params_)\n",
    "print(grid_logreg_p.score(X1_test, y1_test))\n",
    "grid_logreg_p2 = GridSearchCV(logreg_p_pipe, param_grid_logreg_p, cv=kf2)\n",
    "grid_logreg_p2.fit(X1_train, y1_train)\n",
    "print(grid_logreg_p2.best_params_)\n",
    "print(grid_logreg_p2.score(X1_test, y1_test))"
   ]
  },
  {
   "cell_type": "markdown",
   "id": "0093329c",
   "metadata": {},
   "source": [
    "The parameters for the models penalized logistic regression changed, but not for normal logistic regression. It also seems that the same goes for a change with the change in random seed/random state of the suffling."
   ]
  },
  {
   "cell_type": "markdown",
   "id": "4f10ba9c",
   "metadata": {},
   "source": [
    "2.5 Lastly, compare the coefficients for Logistic Regression and Penalized Logistic Regression and discuss which final model you would choose to predict new data."
   ]
  },
  {
   "cell_type": "code",
   "execution_count": 59,
   "id": "f7433ee4",
   "metadata": {},
   "outputs": [
    {
     "name": "stdout",
     "output_type": "stream",
     "text": [
      "Logistic regression intercept: [-1.23482026]\n",
      "Logistic regression beta_hat: [[ 0.55054332  8.60441068 -1.98987833 -0.12063955  1.37243144  0.05060836\n",
      "  -0.06803145 -1.11755406  2.07717577  6.55740479 -0.90888263 -0.15680406]]\n"
     ]
    },
    {
     "name": "stderr",
     "output_type": "stream",
     "text": [
      "/usr/local/Cellar/jupyterlab/3.4.5/libexec/lib/python3.10/site-packages/sklearn/linear_model/_logistic.py:444: ConvergenceWarning: lbfgs failed to converge (status=1):\n",
      "STOP: TOTAL NO. of ITERATIONS REACHED LIMIT.\n",
      "\n",
      "Increase the number of iterations (max_iter) or scale the data as shown in:\n",
      "    https://scikit-learn.org/stable/modules/preprocessing.html\n",
      "Please also refer to the documentation for alternative solver options:\n",
      "    https://scikit-learn.org/stable/modules/linear_model.html#logistic-regression\n",
      "  n_iter_i = _check_optimize_result(\n"
     ]
    }
   ],
   "source": [
    "logreg2 = LogisticRegression(C=3).fit(X1_train, y1_train)\n",
    "print(\"Logistic regression intercept: \" + str(logreg2.intercept_))\n",
    "print(\"Logistic regression beta_hat: \" + str(logreg2.coef_))"
   ]
  },
  {
   "cell_type": "code",
   "execution_count": 60,
   "id": "de139f2b",
   "metadata": {},
   "outputs": [
    {
     "name": "stdout",
     "output_type": "stream",
     "text": [
      "Penalized Logistic regression intercept: [-1.10867384]\n",
      "Penalized Logistic regression beta_hat: [[ 0.71742112  7.68434489 -1.75940336 -0.20951219  1.22708037  0.04735313\n",
      "  -0.06194174 -1.01143117  1.77414652  5.87271448 -0.85674939 -0.26203204]]\n"
     ]
    },
    {
     "name": "stderr",
     "output_type": "stream",
     "text": [
      "/usr/local/Cellar/jupyterlab/3.4.5/libexec/lib/python3.10/site-packages/sklearn/linear_model/_logistic.py:444: ConvergenceWarning: lbfgs failed to converge (status=1):\n",
      "STOP: TOTAL NO. of ITERATIONS REACHED LIMIT.\n",
      "\n",
      "Increase the number of iterations (max_iter) or scale the data as shown in:\n",
      "    https://scikit-learn.org/stable/modules/preprocessing.html\n",
      "Please also refer to the documentation for alternative solver options:\n",
      "    https://scikit-learn.org/stable/modules/linear_model.html#logistic-regression\n",
      "  n_iter_i = _check_optimize_result(\n"
     ]
    }
   ],
   "source": [
    "logreg_p2 = LogisticRegression(C=2).fit(X1_train, y1_train)\n",
    "print(\"Penalized Logistic regression intercept: \" + str(logreg_p2.intercept_))\n",
    "print(\"Penalized Logistic regression beta_hat: \" + str(logreg_p2.coef_))"
   ]
  },
  {
   "cell_type": "markdown",
   "id": "a64804bd",
   "metadata": {},
   "source": [
    "The coefficients for Logistic Regression and Penalized logistic Regression are very similar along with their fit scores. However, I would pick penalized regression as it is centered around 0 and a standard deviation of 1, meaning the variance of the coefficients are smaller. "
   ]
  },
  {
   "cell_type": "code",
   "execution_count": null,
   "id": "e87e4732",
   "metadata": {},
   "outputs": [],
   "source": []
  }
 ],
 "metadata": {
  "kernelspec": {
   "display_name": "Python 3 (ipykernel)",
   "language": "python",
   "name": "python3"
  },
  "language_info": {
   "codemirror_mode": {
    "name": "ipython",
    "version": 3
   },
   "file_extension": ".py",
   "mimetype": "text/x-python",
   "name": "python",
   "nbconvert_exporter": "python",
   "pygments_lexer": "ipython3",
   "version": "3.10.6"
  }
 },
 "nbformat": 4,
 "nbformat_minor": 5
}
