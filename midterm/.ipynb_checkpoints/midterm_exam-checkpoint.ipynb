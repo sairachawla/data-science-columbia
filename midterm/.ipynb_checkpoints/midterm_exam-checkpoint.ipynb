{
 "cells": [
  {
   "cell_type": "markdown",
   "id": "626117bf",
   "metadata": {},
   "source": [
    "# Midterm - Saira Chawla"
   ]
  },
  {
   "cell_type": "code",
   "execution_count": 1,
   "id": "a6ec50f7",
   "metadata": {},
   "outputs": [],
   "source": [
    "# importing necessary libraries & functionsimport pandas as pd\n",
    "import pandas as pd\n",
    "import matplotlib.pyplot as plt\n",
    "import numpy as np\n",
    "\n",
    "# from sklearn\n",
    "from sklearn.model_selection import train_test_split\n",
    "from sklearn.model_selection import cross_val_score\n",
    "\n",
    "from sklearn.model_selection import KFold\n",
    "from sklearn.model_selection import RepeatedKFold\n",
    "from sklearn.model_selection import StratifiedKFold\n",
    "\n",
    "from sklearn.neighbors import KNeighborsClassifier\n",
    "from sklearn.linear_model import LogisticRegression\n",
    "from sklearn.svm import SVC\n",
    "from sklearn.tree import DecisionTreeClassifier\n",
    "\n",
    "from sklearn.preprocessing import StandardScaler\n",
    "\n",
    "from sklearn.pipeline import make_pipeline\n",
    "from sklearn.model_selection import GridSearchCV\n",
    "\n",
    "from sklearn.model_selection import cross_val_score\n",
    "from statistics import mean"
   ]
  },
  {
   "cell_type": "markdown",
   "id": "0019cd24",
   "metadata": {},
   "source": [
    "1.  Import the spam dataset and print the first six rows. "
   ]
  },
  {
   "cell_type": "code",
   "execution_count": 2,
   "id": "63f3b6f2",
   "metadata": {},
   "outputs": [
    {
     "data": {
      "text/html": [
       "<div>\n",
       "<style scoped>\n",
       "    .dataframe tbody tr th:only-of-type {\n",
       "        vertical-align: middle;\n",
       "    }\n",
       "\n",
       "    .dataframe tbody tr th {\n",
       "        vertical-align: top;\n",
       "    }\n",
       "\n",
       "    .dataframe thead th {\n",
       "        text-align: right;\n",
       "    }\n",
       "</style>\n",
       "<table border=\"1\" class=\"dataframe\">\n",
       "  <thead>\n",
       "    <tr style=\"text-align: right;\">\n",
       "      <th></th>\n",
       "      <th>word_freq_make:</th>\n",
       "      <th>word_freq_address:</th>\n",
       "      <th>word_freq_all:</th>\n",
       "      <th>word_freq_3d:</th>\n",
       "      <th>word_freq_our:</th>\n",
       "      <th>word_freq_over:</th>\n",
       "      <th>word_freq_remove:</th>\n",
       "      <th>word_freq_internet:</th>\n",
       "      <th>word_freq_order:</th>\n",
       "      <th>word_freq_mail:</th>\n",
       "      <th>...</th>\n",
       "      <th>char_freq_;:</th>\n",
       "      <th>char_freq_(:</th>\n",
       "      <th>char_freq_[:</th>\n",
       "      <th>char_freq_!:</th>\n",
       "      <th>char_freq_$:</th>\n",
       "      <th>char_freq_#:</th>\n",
       "      <th>capital_run_length_average:</th>\n",
       "      <th>capital_run_length_longest:</th>\n",
       "      <th>capital_run_length_total:</th>\n",
       "      <th>spam</th>\n",
       "    </tr>\n",
       "  </thead>\n",
       "  <tbody>\n",
       "    <tr>\n",
       "      <th>0</th>\n",
       "      <td>0.00</td>\n",
       "      <td>0.64</td>\n",
       "      <td>0.64</td>\n",
       "      <td>0.0</td>\n",
       "      <td>0.32</td>\n",
       "      <td>0.00</td>\n",
       "      <td>0.00</td>\n",
       "      <td>0.00</td>\n",
       "      <td>0.00</td>\n",
       "      <td>0.00</td>\n",
       "      <td>...</td>\n",
       "      <td>0.00</td>\n",
       "      <td>0.000</td>\n",
       "      <td>0.0</td>\n",
       "      <td>0.778</td>\n",
       "      <td>0.000</td>\n",
       "      <td>0.000</td>\n",
       "      <td>3.756</td>\n",
       "      <td>61</td>\n",
       "      <td>278</td>\n",
       "      <td>1</td>\n",
       "    </tr>\n",
       "    <tr>\n",
       "      <th>1</th>\n",
       "      <td>0.21</td>\n",
       "      <td>0.28</td>\n",
       "      <td>0.50</td>\n",
       "      <td>0.0</td>\n",
       "      <td>0.14</td>\n",
       "      <td>0.28</td>\n",
       "      <td>0.21</td>\n",
       "      <td>0.07</td>\n",
       "      <td>0.00</td>\n",
       "      <td>0.94</td>\n",
       "      <td>...</td>\n",
       "      <td>0.00</td>\n",
       "      <td>0.132</td>\n",
       "      <td>0.0</td>\n",
       "      <td>0.372</td>\n",
       "      <td>0.180</td>\n",
       "      <td>0.048</td>\n",
       "      <td>5.114</td>\n",
       "      <td>101</td>\n",
       "      <td>1028</td>\n",
       "      <td>1</td>\n",
       "    </tr>\n",
       "    <tr>\n",
       "      <th>2</th>\n",
       "      <td>0.06</td>\n",
       "      <td>0.00</td>\n",
       "      <td>0.71</td>\n",
       "      <td>0.0</td>\n",
       "      <td>1.23</td>\n",
       "      <td>0.19</td>\n",
       "      <td>0.19</td>\n",
       "      <td>0.12</td>\n",
       "      <td>0.64</td>\n",
       "      <td>0.25</td>\n",
       "      <td>...</td>\n",
       "      <td>0.01</td>\n",
       "      <td>0.143</td>\n",
       "      <td>0.0</td>\n",
       "      <td>0.276</td>\n",
       "      <td>0.184</td>\n",
       "      <td>0.010</td>\n",
       "      <td>9.821</td>\n",
       "      <td>485</td>\n",
       "      <td>2259</td>\n",
       "      <td>1</td>\n",
       "    </tr>\n",
       "    <tr>\n",
       "      <th>3</th>\n",
       "      <td>0.00</td>\n",
       "      <td>0.00</td>\n",
       "      <td>0.00</td>\n",
       "      <td>0.0</td>\n",
       "      <td>0.63</td>\n",
       "      <td>0.00</td>\n",
       "      <td>0.31</td>\n",
       "      <td>0.63</td>\n",
       "      <td>0.31</td>\n",
       "      <td>0.63</td>\n",
       "      <td>...</td>\n",
       "      <td>0.00</td>\n",
       "      <td>0.137</td>\n",
       "      <td>0.0</td>\n",
       "      <td>0.137</td>\n",
       "      <td>0.000</td>\n",
       "      <td>0.000</td>\n",
       "      <td>3.537</td>\n",
       "      <td>40</td>\n",
       "      <td>191</td>\n",
       "      <td>1</td>\n",
       "    </tr>\n",
       "    <tr>\n",
       "      <th>4</th>\n",
       "      <td>0.00</td>\n",
       "      <td>0.00</td>\n",
       "      <td>0.00</td>\n",
       "      <td>0.0</td>\n",
       "      <td>0.63</td>\n",
       "      <td>0.00</td>\n",
       "      <td>0.31</td>\n",
       "      <td>0.63</td>\n",
       "      <td>0.31</td>\n",
       "      <td>0.63</td>\n",
       "      <td>...</td>\n",
       "      <td>0.00</td>\n",
       "      <td>0.135</td>\n",
       "      <td>0.0</td>\n",
       "      <td>0.135</td>\n",
       "      <td>0.000</td>\n",
       "      <td>0.000</td>\n",
       "      <td>3.537</td>\n",
       "      <td>40</td>\n",
       "      <td>191</td>\n",
       "      <td>1</td>\n",
       "    </tr>\n",
       "    <tr>\n",
       "      <th>5</th>\n",
       "      <td>0.00</td>\n",
       "      <td>0.00</td>\n",
       "      <td>0.00</td>\n",
       "      <td>0.0</td>\n",
       "      <td>1.85</td>\n",
       "      <td>0.00</td>\n",
       "      <td>0.00</td>\n",
       "      <td>1.85</td>\n",
       "      <td>0.00</td>\n",
       "      <td>0.00</td>\n",
       "      <td>...</td>\n",
       "      <td>0.00</td>\n",
       "      <td>0.223</td>\n",
       "      <td>0.0</td>\n",
       "      <td>0.000</td>\n",
       "      <td>0.000</td>\n",
       "      <td>0.000</td>\n",
       "      <td>3.000</td>\n",
       "      <td>15</td>\n",
       "      <td>54</td>\n",
       "      <td>1</td>\n",
       "    </tr>\n",
       "  </tbody>\n",
       "</table>\n",
       "<p>6 rows × 58 columns</p>\n",
       "</div>"
      ],
      "text/plain": [
       "   word_freq_make:  word_freq_address:  word_freq_all:  word_freq_3d:  \\\n",
       "0             0.00                0.64            0.64            0.0   \n",
       "1             0.21                0.28            0.50            0.0   \n",
       "2             0.06                0.00            0.71            0.0   \n",
       "3             0.00                0.00            0.00            0.0   \n",
       "4             0.00                0.00            0.00            0.0   \n",
       "5             0.00                0.00            0.00            0.0   \n",
       "\n",
       "   word_freq_our:  word_freq_over:  word_freq_remove:  word_freq_internet:  \\\n",
       "0            0.32             0.00               0.00                 0.00   \n",
       "1            0.14             0.28               0.21                 0.07   \n",
       "2            1.23             0.19               0.19                 0.12   \n",
       "3            0.63             0.00               0.31                 0.63   \n",
       "4            0.63             0.00               0.31                 0.63   \n",
       "5            1.85             0.00               0.00                 1.85   \n",
       "\n",
       "   word_freq_order:  word_freq_mail:  ...  char_freq_;:  char_freq_(:  \\\n",
       "0              0.00             0.00  ...          0.00         0.000   \n",
       "1              0.00             0.94  ...          0.00         0.132   \n",
       "2              0.64             0.25  ...          0.01         0.143   \n",
       "3              0.31             0.63  ...          0.00         0.137   \n",
       "4              0.31             0.63  ...          0.00         0.135   \n",
       "5              0.00             0.00  ...          0.00         0.223   \n",
       "\n",
       "   char_freq_[:  char_freq_!:  char_freq_$:  char_freq_#:  \\\n",
       "0           0.0         0.778         0.000         0.000   \n",
       "1           0.0         0.372         0.180         0.048   \n",
       "2           0.0         0.276         0.184         0.010   \n",
       "3           0.0         0.137         0.000         0.000   \n",
       "4           0.0         0.135         0.000         0.000   \n",
       "5           0.0         0.000         0.000         0.000   \n",
       "\n",
       "   capital_run_length_average:  capital_run_length_longest:  \\\n",
       "0                        3.756                           61   \n",
       "1                        5.114                          101   \n",
       "2                        9.821                          485   \n",
       "3                        3.537                           40   \n",
       "4                        3.537                           40   \n",
       "5                        3.000                           15   \n",
       "\n",
       "   capital_run_length_total:  spam  \n",
       "0                        278     1  \n",
       "1                       1028     1  \n",
       "2                       2259     1  \n",
       "3                        191     1  \n",
       "4                        191     1  \n",
       "5                         54     1  \n",
       "\n",
       "[6 rows x 58 columns]"
      ]
     },
     "execution_count": 2,
     "metadata": {},
     "output_type": "execute_result"
    }
   ],
   "source": [
    "spam = pd.read_csv(\"spam_dataset.csv\")\n",
    "spam.head(6)"
   ]
  },
  {
   "cell_type": "markdown",
   "id": "c3255a67",
   "metadata": {},
   "source": [
    "2.  Read through the documentation of the original dataset here:\n",
    "\n",
    "http://archive.ics.uci.edu/ml/machine-learning-databases/spambase/spambase.names\n",
    "\n",
    "The dependent variable is \"spam\" where one indicates that an email is spam and zero otherwise.  Which three variables in the dataset do you think will be important predictors in a model of spam?  Why?"
   ]
  },
  {
   "cell_type": "code",
   "execution_count": 3,
   "id": "04485680",
   "metadata": {},
   "outputs": [
    {
     "data": {
      "text/plain": [
       "Index(['word_freq_make:', 'word_freq_address:', 'word_freq_all:',\n",
       "       'word_freq_3d:', 'word_freq_our:', 'word_freq_over:',\n",
       "       'word_freq_remove:', 'word_freq_internet:', 'word_freq_order:',\n",
       "       'word_freq_mail:', 'word_freq_receive:', 'word_freq_will:',\n",
       "       'word_freq_people:', 'word_freq_report:', 'word_freq_addresses:',\n",
       "       'word_freq_free:', 'word_freq_business:', 'word_freq_email:',\n",
       "       'word_freq_you:', 'word_freq_credit:', 'word_freq_your:',\n",
       "       'word_freq_font:', 'word_freq_000:', 'word_freq_money:',\n",
       "       'word_freq_hp:', 'word_freq_hpl:', 'word_freq_george:',\n",
       "       'word_freq_650:', 'word_freq_lab:', 'word_freq_labs:',\n",
       "       'word_freq_telnet:', 'word_freq_857:', 'word_freq_data:',\n",
       "       'word_freq_415:', 'word_freq_85:', 'word_freq_technology:',\n",
       "       'word_freq_1999:', 'word_freq_parts:', 'word_freq_pm:',\n",
       "       'word_freq_direct:', 'word_freq_cs:', 'word_freq_meeting:',\n",
       "       'word_freq_original:', 'word_freq_project:', 'word_freq_re:',\n",
       "       'word_freq_edu:', 'word_freq_table:', 'word_freq_conference:',\n",
       "       'char_freq_;:', 'char_freq_(:', 'char_freq_[:', 'char_freq_!:',\n",
       "       'char_freq_$:', 'char_freq_#:', 'capital_run_length_average:',\n",
       "       'capital_run_length_longest:', 'capital_run_length_total:', 'spam'],\n",
       "      dtype='object')"
      ]
     },
     "execution_count": 3,
     "metadata": {},
     "output_type": "execute_result"
    }
   ],
   "source": [
    "spam.columns"
   ]
  },
  {
   "cell_type": "markdown",
   "id": "f8538e4d",
   "metadata": {},
   "source": [
    "The three variables I think will be important are capital_run_length_average:, char_freq_!:, and word_freq_free: because the first two variables represent a type of email formatting (capital letters, !) that is considered unprofessional and many spam emails contain incentives with the word free. "
   ]
  },
  {
   "cell_type": "markdown",
   "id": "4eb97840",
   "metadata": {},
   "source": [
    "3.  Visualize the univariate distribution of each of the variables in the previous question.  "
   ]
  },
  {
   "cell_type": "code",
   "execution_count": 4,
   "id": "35c18ce2",
   "metadata": {},
   "outputs": [
    {
     "data": {
      "text/plain": [
       "<AxesSubplot: >"
      ]
     },
     "execution_count": 4,
     "metadata": {},
     "output_type": "execute_result"
    },
    {
     "data": {
      "image/png": "[encoded data removed]",
      "text/plain": [
       "<Figure size 432x288 with 1 Axes>"
      ]
     },
     "metadata": {
      "needs_background": "light"
     },
     "output_type": "display_data"
    }
   ],
   "source": [
    "spam['capital_run_length_average:'].hist(log=True)"
   ]
  },
  {
   "cell_type": "code",
   "execution_count": 5,
   "id": "a90a060b",
   "metadata": {},
   "outputs": [
    {
     "data": {
      "text/plain": [
       "<AxesSubplot: >"
      ]
     },
     "execution_count": 5,
     "metadata": {},
     "output_type": "execute_result"
    },
    {
     "data": {
      "image/png": "[encoded data removed]",
      "text/plain": [
       "<Figure size 432x288 with 1 Axes>"
      ]
     },
     "metadata": {
      "needs_background": "light"
     },
     "output_type": "display_data"
    }
   ],
   "source": [
    "spam['char_freq_!:'].hist(log=True)"
   ]
  },
  {
   "cell_type": "code",
   "execution_count": 6,
   "id": "46efa77f",
   "metadata": {},
   "outputs": [
    {
     "data": {
      "text/plain": [
       "<AxesSubplot: >"
      ]
     },
     "execution_count": 6,
     "metadata": {},
     "output_type": "execute_result"
    },
    {
     "data": {
      "image/png": "[encoded data removed]",
      "text/plain": [
       "<Figure size 432x288 with 1 Axes>"
      ]
     },
     "metadata": {
      "needs_background": "light"
     },
     "output_type": "display_data"
    }
   ],
   "source": [
    "spam['word_freq_free:'].hist(log=True)"
   ]
  },
  {
   "cell_type": "markdown",
   "id": "43591e78",
   "metadata": {},
   "source": [
    "4. Name each of the supervised learning models that we have learned thus far that are used to predict dependent variables like \"spam\".   "
   ]
  },
  {
   "cell_type": "markdown",
   "id": "c9a6dfb3",
   "metadata": {},
   "source": [
    "So far, the models that are used to predict categorical variables such as \"spam\" are k-nearest neighbors, logistic regression, support vector classifiers, and decision trees because all of them can be used for classification."
   ]
  },
  {
   "cell_type": "markdown",
   "id": "6dc8cbdd",
   "metadata": {},
   "source": [
    "5. Describe the importance of training and test data.  Why do we separate data into these subsets?"
   ]
  },
  {
   "cell_type": "markdown",
   "id": "3653b267",
   "metadata": {},
   "source": [
    "The importance of separating data into a training and a test dataframe lies in the ability to build and test our model. Regardless of what model, it will train on a training dataset and be tested on the test dataset. (Hence, the names.)"
   ]
  },
  {
   "cell_type": "markdown",
   "id": "883746d8",
   "metadata": {},
   "source": [
    "6. What is k-fold cross validation and what do we use it for?"
   ]
  },
  {
   "cell_type": "markdown",
   "id": "6b4cc3bb",
   "metadata": {},
   "source": [
    "Cross validation allows us to evaluate the prediction error of models. K-fold cross validation trains a number of models on different sets of input data specified by k. K-fold cross validation is used to build a more generalized model and prevent overfitting. \n",
    "\n",
    "Here is the process of k-fold cross validation:\n",
    "- Fold 1 used as test for model 1; folds 2-5 used to train model 1\n",
    "- Fold 1 used as test for model 2; folds 1, 3-5 used to train model 2\n",
    "- continues on... "
   ]
  },
  {
   "cell_type": "markdown",
   "id": "469c1567",
   "metadata": {},
   "source": [
    "7. How is k-fold cross validation different from stratified k-fold cross validation?"
   ]
  },
  {
   "cell_type": "markdown",
   "id": "5a6bb8e3",
   "metadata": {},
   "source": [
    "Stratified ensures that each fold of the data will have the same proportion of observations of a given label whereas standard k-fold does not take proportion of classes into account. This results in a more reliable and generalized model."
   ]
  },
  {
   "cell_type": "markdown",
   "id": "77323278",
   "metadata": {},
   "source": [
    "8. Choose one model from question four.  Split the data into training and test subsets.  Build a model with the three variables in the dataset that you think will be good predictors of \"spam\".  Describe why you chose any particular parameters for your model (e.g.- if you used KNN how did you decide to choose a specific value for k).  Run the model and evaluate prediction error in two ways: A) On test data directly and B) using k-fold cross-validation.  "
   ]
  },
  {
   "cell_type": "markdown",
   "id": "3a2d7fd4",
   "metadata": {},
   "source": [
    "K Nearest Neighbors: "
   ]
  },
  {
   "cell_type": "markdown",
   "id": "b24ce189",
   "metadata": {},
   "source": [
    "I chose k as 7 from tuning the parameters using GridSearchCV."
   ]
  },
  {
   "cell_type": "code",
   "execution_count": 7,
   "id": "d36bcda4",
   "metadata": {},
   "outputs": [
    {
     "name": "stdout",
     "output_type": "stream",
     "text": [
      "0    1\n",
      "1    1\n",
      "2    1\n",
      "3    1\n",
      "4    1\n",
      "Name: spam, dtype: int64\n"
     ]
    },
    {
     "data": {
      "text/html": [
       "<div>\n",
       "<style scoped>\n",
       "    .dataframe tbody tr th:only-of-type {\n",
       "        vertical-align: middle;\n",
       "    }\n",
       "\n",
       "    .dataframe tbody tr th {\n",
       "        vertical-align: top;\n",
       "    }\n",
       "\n",
       "    .dataframe thead th {\n",
       "        text-align: right;\n",
       "    }\n",
       "</style>\n",
       "<table border=\"1\" class=\"dataframe\">\n",
       "  <thead>\n",
       "    <tr style=\"text-align: right;\">\n",
       "      <th></th>\n",
       "      <th>word_freq_free:</th>\n",
       "      <th>char_freq_!:</th>\n",
       "      <th>capital_run_length_average:</th>\n",
       "    </tr>\n",
       "  </thead>\n",
       "  <tbody>\n",
       "    <tr>\n",
       "      <th>0</th>\n",
       "      <td>0.32</td>\n",
       "      <td>0.778</td>\n",
       "      <td>3.756</td>\n",
       "    </tr>\n",
       "    <tr>\n",
       "      <th>1</th>\n",
       "      <td>0.14</td>\n",
       "      <td>0.372</td>\n",
       "      <td>5.114</td>\n",
       "    </tr>\n",
       "    <tr>\n",
       "      <th>2</th>\n",
       "      <td>0.06</td>\n",
       "      <td>0.276</td>\n",
       "      <td>9.821</td>\n",
       "    </tr>\n",
       "    <tr>\n",
       "      <th>3</th>\n",
       "      <td>0.31</td>\n",
       "      <td>0.137</td>\n",
       "      <td>3.537</td>\n",
       "    </tr>\n",
       "    <tr>\n",
       "      <th>4</th>\n",
       "      <td>0.31</td>\n",
       "      <td>0.135</td>\n",
       "      <td>3.537</td>\n",
       "    </tr>\n",
       "  </tbody>\n",
       "</table>\n",
       "</div>"
      ],
      "text/plain": [
       "   word_freq_free:  char_freq_!:  capital_run_length_average:\n",
       "0             0.32         0.778                        3.756\n",
       "1             0.14         0.372                        5.114\n",
       "2             0.06         0.276                        9.821\n",
       "3             0.31         0.137                        3.537\n",
       "4             0.31         0.135                        3.537"
      ]
     },
     "execution_count": 7,
     "metadata": {},
     "output_type": "execute_result"
    }
   ],
   "source": [
    "# defining feature and target variables\n",
    "y = spam['spam']\n",
    "X = spam[['word_freq_free:', 'char_freq_!:', 'capital_run_length_average:']]\n",
    "print(y[0:5])\n",
    "X.head()"
   ]
  },
  {
   "cell_type": "code",
   "execution_count": 8,
   "id": "37c6332a",
   "metadata": {},
   "outputs": [],
   "source": [
    "scaler = StandardScaler().fit(X)\n",
    "X_scaled = scaler.transform(X)"
   ]
  },
  {
   "cell_type": "code",
   "execution_count": 9,
   "id": "3ff69be7",
   "metadata": {},
   "outputs": [],
   "source": [
    "# splitting dataset\n",
    "X_train, X_test, y_train, y_test = train_test_split(X, y)"
   ]
  },
  {
   "cell_type": "code",
   "execution_count": 10,
   "id": "9c1a6c1b",
   "metadata": {},
   "outputs": [
    {
     "name": "stdout",
     "output_type": "stream",
     "text": [
      "{'kneighborsclassifier__n_neighbors': 7}\n",
      "0.8540399652476107\n"
     ]
    }
   ],
   "source": [
    "knn_pipe = make_pipeline(StandardScaler(), KNeighborsClassifier())\n",
    "param_grid_knn = {'kneighborsclassifier__n_neighbors': range(1, 10)}\n",
    "grid_knn = GridSearchCV(knn_pipe, param_grid_knn)\n",
    "grid_knn.fit(X_train, y_train)\n",
    "print(grid_knn.best_params_)\n",
    "print(grid_knn.score(X_test, y_test))"
   ]
  },
  {
   "cell_type": "code",
   "execution_count": 11,
   "id": "668e8a10",
   "metadata": {},
   "outputs": [
    {
     "name": "stdout",
     "output_type": "stream",
     "text": [
      "on test data directly: 0.8523023457862728\n",
      "using k-fold cross validation: 0.8449275362318841\n"
     ]
    }
   ],
   "source": [
    "knn = KNeighborsClassifier(n_neighbors=7)\n",
    "knn.fit(X_train, y_train)\n",
    "print(f\"on test data directly: \" + str(knn.score(X_test, y_test)))\n",
    "print(f\"using k-fold cross validation: \" + str(mean(cross_val_score(knn, X_train, y_train))))"
   ]
  },
  {
   "cell_type": "markdown",
   "id": "a3560e4c",
   "metadata": {},
   "source": [
    "9. Choose a second model from question four.  Using the same three variables in the dataset that you think will be good predictors of \"spam\".  Describe why you chose any particular parameters for your model (e.g.- if you used KNN how did you decide to choose a specific value for k).  Run the model and evaluate prediction error in two ways: A) On test data directly and B) using k-fold cross-validation.  Did this model predict test data better than your previous model?"
   ]
  },
  {
   "cell_type": "markdown",
   "id": "ae85cba2",
   "metadata": {},
   "source": [
    "Logistic Regression: "
   ]
  },
  {
   "cell_type": "markdown",
   "id": "11d93ef6",
   "metadata": {},
   "source": [
    "I chose the penalty as none because we are not using penalized logistic regression. I chose C to be 3 using GridSearchCV to tune the parameters."
   ]
  },
  {
   "cell_type": "code",
   "execution_count": 12,
   "id": "dadc8d34",
   "metadata": {},
   "outputs": [
    {
     "name": "stderr",
     "output_type": "stream",
     "text": [
      "/usr/local/Cellar/jupyterlab/3.4.5/libexec/lib/python3.10/site-packages/sklearn/linear_model/_logistic.py:432: RuntimeWarning: divide by zero encountered in true_divide\n",
      "  l2_reg_strength = 1.0 / C\n",
      "/usr/local/Cellar/jupyterlab/3.4.5/libexec/lib/python3.10/site-packages/sklearn/linear_model/_linear_loss.py:198: RuntimeWarning: invalid value encountered in double_scalars\n",
      "  loss += 0.5 * l2_reg_strength * (weights @ weights)\n",
      "/usr/local/Cellar/jupyterlab/3.4.5/libexec/lib/python3.10/site-packages/sklearn/linear_model/_linear_loss.py:200: RuntimeWarning: invalid value encountered in multiply\n",
      "  grad[:n_features] = X.T @ grad_per_sample + l2_reg_strength * weights\n",
      "/usr/local/Cellar/jupyterlab/3.4.5/libexec/lib/python3.10/site-packages/sklearn/linear_model/_logistic.py:444: ConvergenceWarning: lbfgs failed to converge (status=2):\n",
      "ABNORMAL_TERMINATION_IN_LNSRCH.\n",
      "\n",
      "Increase the number of iterations (max_iter) or scale the data as shown in:\n",
      "    https://scikit-learn.org/stable/modules/preprocessing.html\n",
      "Please also refer to the documentation for alternative solver options:\n",
      "    https://scikit-learn.org/stable/modules/linear_model.html#logistic-regression\n",
      "  n_iter_i = _check_optimize_result(\n",
      "/usr/local/Cellar/jupyterlab/3.4.5/libexec/lib/python3.10/site-packages/sklearn/linear_model/_logistic.py:432: RuntimeWarning: divide by zero encountered in true_divide\n",
      "  l2_reg_strength = 1.0 / C\n",
      "/usr/local/Cellar/jupyterlab/3.4.5/libexec/lib/python3.10/site-packages/sklearn/linear_model/_linear_loss.py:198: RuntimeWarning: invalid value encountered in double_scalars\n",
      "  loss += 0.5 * l2_reg_strength * (weights @ weights)\n",
      "/usr/local/Cellar/jupyterlab/3.4.5/libexec/lib/python3.10/site-packages/sklearn/linear_model/_linear_loss.py:200: RuntimeWarning: invalid value encountered in multiply\n",
      "  grad[:n_features] = X.T @ grad_per_sample + l2_reg_strength * weights\n",
      "/usr/local/Cellar/jupyterlab/3.4.5/libexec/lib/python3.10/site-packages/sklearn/linear_model/_logistic.py:444: ConvergenceWarning: lbfgs failed to converge (status=2):\n",
      "ABNORMAL_TERMINATION_IN_LNSRCH.\n",
      "\n",
      "Increase the number of iterations (max_iter) or scale the data as shown in:\n",
      "    https://scikit-learn.org/stable/modules/preprocessing.html\n",
      "Please also refer to the documentation for alternative solver options:\n",
      "    https://scikit-learn.org/stable/modules/linear_model.html#logistic-regression\n",
      "  n_iter_i = _check_optimize_result(\n",
      "/usr/local/Cellar/jupyterlab/3.4.5/libexec/lib/python3.10/site-packages/sklearn/linear_model/_logistic.py:432: RuntimeWarning: divide by zero encountered in true_divide\n",
      "  l2_reg_strength = 1.0 / C\n",
      "/usr/local/Cellar/jupyterlab/3.4.5/libexec/lib/python3.10/site-packages/sklearn/linear_model/_linear_loss.py:198: RuntimeWarning: invalid value encountered in double_scalars\n",
      "  loss += 0.5 * l2_reg_strength * (weights @ weights)\n",
      "/usr/local/Cellar/jupyterlab/3.4.5/libexec/lib/python3.10/site-packages/sklearn/linear_model/_linear_loss.py:200: RuntimeWarning: invalid value encountered in multiply\n",
      "  grad[:n_features] = X.T @ grad_per_sample + l2_reg_strength * weights\n",
      "/usr/local/Cellar/jupyterlab/3.4.5/libexec/lib/python3.10/site-packages/sklearn/linear_model/_logistic.py:444: ConvergenceWarning: lbfgs failed to converge (status=2):\n",
      "ABNORMAL_TERMINATION_IN_LNSRCH.\n",
      "\n",
      "Increase the number of iterations (max_iter) or scale the data as shown in:\n",
      "    https://scikit-learn.org/stable/modules/preprocessing.html\n",
      "Please also refer to the documentation for alternative solver options:\n",
      "    https://scikit-learn.org/stable/modules/linear_model.html#logistic-regression\n",
      "  n_iter_i = _check_optimize_result(\n",
      "/usr/local/Cellar/jupyterlab/3.4.5/libexec/lib/python3.10/site-packages/sklearn/linear_model/_logistic.py:432: RuntimeWarning: divide by zero encountered in true_divide\n",
      "  l2_reg_strength = 1.0 / C\n",
      "/usr/local/Cellar/jupyterlab/3.4.5/libexec/lib/python3.10/site-packages/sklearn/linear_model/_linear_loss.py:198: RuntimeWarning: invalid value encountered in double_scalars\n",
      "  loss += 0.5 * l2_reg_strength * (weights @ weights)\n",
      "/usr/local/Cellar/jupyterlab/3.4.5/libexec/lib/python3.10/site-packages/sklearn/linear_model/_linear_loss.py:200: RuntimeWarning: invalid value encountered in multiply\n",
      "  grad[:n_features] = X.T @ grad_per_sample + l2_reg_strength * weights\n",
      "/usr/local/Cellar/jupyterlab/3.4.5/libexec/lib/python3.10/site-packages/sklearn/linear_model/_logistic.py:444: ConvergenceWarning: lbfgs failed to converge (status=2):\n",
      "ABNORMAL_TERMINATION_IN_LNSRCH.\n",
      "\n",
      "Increase the number of iterations (max_iter) or scale the data as shown in:\n",
      "    https://scikit-learn.org/stable/modules/preprocessing.html\n",
      "Please also refer to the documentation for alternative solver options:\n",
      "    https://scikit-learn.org/stable/modules/linear_model.html#logistic-regression\n",
      "  n_iter_i = _check_optimize_result(\n",
      "/usr/local/Cellar/jupyterlab/3.4.5/libexec/lib/python3.10/site-packages/sklearn/linear_model/_logistic.py:432: RuntimeWarning: divide by zero encountered in true_divide\n",
      "  l2_reg_strength = 1.0 / C\n",
      "/usr/local/Cellar/jupyterlab/3.4.5/libexec/lib/python3.10/site-packages/sklearn/linear_model/_linear_loss.py:198: RuntimeWarning: invalid value encountered in double_scalars\n",
      "  loss += 0.5 * l2_reg_strength * (weights @ weights)\n",
      "/usr/local/Cellar/jupyterlab/3.4.5/libexec/lib/python3.10/site-packages/sklearn/linear_model/_linear_loss.py:200: RuntimeWarning: invalid value encountered in multiply\n",
      "  grad[:n_features] = X.T @ grad_per_sample + l2_reg_strength * weights\n",
      "/usr/local/Cellar/jupyterlab/3.4.5/libexec/lib/python3.10/site-packages/sklearn/linear_model/_logistic.py:444: ConvergenceWarning: lbfgs failed to converge (status=2):\n",
      "ABNORMAL_TERMINATION_IN_LNSRCH.\n",
      "\n",
      "Increase the number of iterations (max_iter) or scale the data as shown in:\n",
      "    https://scikit-learn.org/stable/modules/preprocessing.html\n",
      "Please also refer to the documentation for alternative solver options:\n",
      "    https://scikit-learn.org/stable/modules/linear_model.html#logistic-regression\n",
      "  n_iter_i = _check_optimize_result(\n"
     ]
    },
    {
     "name": "stdout",
     "output_type": "stream",
     "text": [
      "{'logisticregression__C': 3}\n",
      "0.8097306689834927\n"
     ]
    }
   ],
   "source": [
    "logreg_pipe = make_pipeline(StandardScaler(), LogisticRegression())\n",
    "param_grid_logreg = {'logisticregression__C': np.arange(0,100)}\n",
    "grid_logreg = GridSearchCV(logreg_pipe, param_grid_logreg)\n",
    "grid_logreg.fit(X_train, y_train)\n",
    "print(grid_logreg.best_params_)\n",
    "print(grid_logreg.score(X_test, y_test))"
   ]
  },
  {
   "cell_type": "code",
   "execution_count": 27,
   "id": "2df8a3c5",
   "metadata": {},
   "outputs": [
    {
     "name": "stdout",
     "output_type": "stream",
     "text": [
      "on test data directly: 0.8079930495221547\n",
      "using k-fold cross validation: 0.7939130434782609\n"
     ]
    }
   ],
   "source": [
    "logreg = LogisticRegression(C=3)\n",
    "logreg.fit(X_train, y_train)\n",
    "print(f\"on test data directly: \" + str(logreg.score(X_test, y_test)))\n",
    "print(f\"using k-fold cross validation: \" + str(mean(cross_val_score(logreg, X_train, y_train))))"
   ]
  },
  {
   "cell_type": "markdown",
   "id": "ad3337e5",
   "metadata": {},
   "source": [
    "The previous model, K Nearest Neighbors, predicts test data better than this model, Logistic Regression. "
   ]
  },
  {
   "cell_type": "markdown",
   "id": "0aed56fd",
   "metadata": {},
   "source": [
    "10. Choose a third model from question four.  Using the same three variables in the dataset that you think will be good predictors of \"spam\".  Describe why you chose any particular parameters for your model (e.g.- if you used KNN how did you decide to choose a specific value for k). Run the model and evaluate prediction error in two ways: A) On test data directly and B) using k-fold cross-validation.  Did this model predict test data better than your previous models?"
   ]
  },
  {
   "cell_type": "markdown",
   "id": "8f56cb93",
   "metadata": {},
   "source": [
    "Support Vector Classifier: "
   ]
  },
  {
   "cell_type": "markdown",
   "id": "4e10dce2",
   "metadata": {},
   "source": [
    "I chose kernel C as 37 using GridSearchCV to tune parameters. "
   ]
  },
  {
   "cell_type": "code",
   "execution_count": 14,
   "id": "14a36781",
   "metadata": {},
   "outputs": [
    {
     "name": "stderr",
     "output_type": "stream",
     "text": [
      "/usr/local/Cellar/jupyterlab/3.4.5/libexec/lib/python3.10/site-packages/sklearn/model_selection/_validation.py:378: FitFailedWarning: \n",
      "5 fits failed out of a total of 500.\n",
      "The score on these train-test partitions for these parameters will be set to nan.\n",
      "If these failures are not expected, you can try to debug them by setting error_score='raise'.\n",
      "\n",
      "Below are more details about the failures:\n",
      "--------------------------------------------------------------------------------\n",
      "5 fits failed with the following error:\n",
      "Traceback (most recent call last):\n",
      "  File \"/usr/local/Cellar/jupyterlab/3.4.5/libexec/lib/python3.10/site-packages/sklearn/model_selection/_validation.py\", line 686, in _fit_and_score\n",
      "    estimator.fit(X_train, y_train, **fit_params)\n",
      "  File \"/usr/local/Cellar/jupyterlab/3.4.5/libexec/lib/python3.10/site-packages/sklearn/pipeline.py\", line 382, in fit\n",
      "    self._final_estimator.fit(Xt, y, **fit_params_last_step)\n",
      "  File \"/usr/local/Cellar/jupyterlab/3.4.5/libexec/lib/python3.10/site-packages/sklearn/svm/_base.py\", line 251, in fit\n",
      "    fit(X, y, sample_weight, solver_type, kernel, random_seed=seed)\n",
      "  File \"/usr/local/Cellar/jupyterlab/3.4.5/libexec/lib/python3.10/site-packages/sklearn/svm/_base.py\", line 333, in _dense_fit\n",
      "    ) = libsvm.fit(\n",
      "  File \"sklearn/svm/_libsvm.pyx\", line 192, in sklearn.svm._libsvm.fit\n",
      "ValueError: C <= 0\n",
      "\n",
      "  warnings.warn(some_fits_failed_message, FitFailedWarning)\n",
      "/usr/local/Cellar/jupyterlab/3.4.5/libexec/lib/python3.10/site-packages/sklearn/model_selection/_search.py:953: UserWarning: One or more of the test scores are non-finite: [       nan 0.8115942  0.81391304 0.81681159 0.81768116 0.82057971\n",
      " 0.82115942 0.82173913 0.82231884 0.82434783 0.82289855 0.82231884\n",
      " 0.82173913 0.8226087  0.82376812 0.82376812 0.82347826 0.82231884\n",
      " 0.82202899 0.82115942 0.82144928 0.82173913 0.82202899 0.82231884\n",
      " 0.82289855 0.8226087  0.82347826 0.82376812 0.82318841 0.82405797\n",
      " 0.82376812 0.82376812 0.82405797 0.82405797 0.82405797 0.82405797\n",
      " 0.82463768 0.82492754 0.82405797 0.82463768 0.82463768 0.82434783\n",
      " 0.82376812 0.82376812 0.82347826 0.82347826 0.82347826 0.82318841\n",
      " 0.82376812 0.82376812 0.82347826 0.82347826 0.82347826 0.82376812\n",
      " 0.82376812 0.82376812 0.82347826 0.82318841 0.82318841 0.82318841\n",
      " 0.82347826 0.82376812 0.82376812 0.82376812 0.82376812 0.82347826\n",
      " 0.82318841 0.82318841 0.82376812 0.82318841 0.82318841 0.82376812\n",
      " 0.82376812 0.82376812 0.82376812 0.82347826 0.82347826 0.82318841\n",
      " 0.82318841 0.82318841 0.82318841 0.82318841 0.82347826 0.82347826\n",
      " 0.82347826 0.82376812 0.82347826 0.82347826 0.82347826 0.82318841\n",
      " 0.82289855 0.82289855 0.82318841 0.82347826 0.82434783 0.82463768\n",
      " 0.82463768 0.82434783 0.82434783 0.82405797]\n",
      "  warnings.warn(\n"
     ]
    },
    {
     "name": "stdout",
     "output_type": "stream",
     "text": [
      "{'svc__C': 37}\n",
      "0.8366637706342311\n"
     ]
    }
   ],
   "source": [
    "svc_pipe = make_pipeline(StandardScaler(), SVC())\n",
    "param_grid_svc = {'svc__C': np.arange(0,100)}\n",
    "grid_svc = GridSearchCV(svc_pipe, param_grid_svc)\n",
    "grid_svc.fit(X_train, y_train)\n",
    "print(grid_svc.best_params_)\n",
    "print(grid_svc.score(X_test, y_test))"
   ]
  },
  {
   "cell_type": "code",
   "execution_count": 15,
   "id": "67195c76",
   "metadata": {},
   "outputs": [
    {
     "name": "stdout",
     "output_type": "stream",
     "text": [
      "on test data directly: 0.8210251954821894\n",
      "using k-fold cross validation: 0.803768115942029\n"
     ]
    }
   ],
   "source": [
    "svc = SVC(C=37)\n",
    "svc.fit(X_train, y_train)\n",
    "print(f\"on test data directly: \" + str(svc.score(X_test, y_test)))\n",
    "print(f\"using k-fold cross validation: \" + str(mean(cross_val_score(svc, X_train, y_train))))"
   ]
  },
  {
   "cell_type": "markdown",
   "id": "6819fc3f",
   "metadata": {},
   "source": [
    "So far, the K Nearest Neighbors model remains to predict the best."
   ]
  },
  {
   "cell_type": "markdown",
   "id": "c674cf65",
   "metadata": {},
   "source": [
    "11. Choose a fourth model from question four.  Using the same three variables in the dataset that you think will be good predictors of \"spam\".  Describe why you chose any particular parameters for your model (e.g.- if you used KNN how did you decide to choose a specific value for k). Run the model and evaluate prediction error in two ways: A) On test data directly and B) using k-fold cross-validation.  Did this model predict test data better than your previous models?"
   ]
  },
  {
   "cell_type": "markdown",
   "id": "dcee49ff",
   "metadata": {},
   "source": [
    "Decision Trees:"
   ]
  },
  {
   "cell_type": "markdown",
   "id": "b8ceb782",
   "metadata": {},
   "source": [
    "I chose max_depth to be 3 from tuning parameters using GridSearchCV. "
   ]
  },
  {
   "cell_type": "code",
   "execution_count": 16,
   "id": "a93fb1b2",
   "metadata": {},
   "outputs": [
    {
     "name": "stdout",
     "output_type": "stream",
     "text": [
      "{'decisiontreeclassifier__max_depth': 3}\n",
      "0.8531711555169418\n"
     ]
    },
    {
     "name": "stderr",
     "output_type": "stream",
     "text": [
      "/usr/local/Cellar/jupyterlab/3.4.5/libexec/lib/python3.10/site-packages/sklearn/model_selection/_validation.py:378: FitFailedWarning: \n",
      "5 fits failed out of a total of 25.\n",
      "The score on these train-test partitions for these parameters will be set to nan.\n",
      "If these failures are not expected, you can try to debug them by setting error_score='raise'.\n",
      "\n",
      "Below are more details about the failures:\n",
      "--------------------------------------------------------------------------------\n",
      "5 fits failed with the following error:\n",
      "Traceback (most recent call last):\n",
      "  File \"/usr/local/Cellar/jupyterlab/3.4.5/libexec/lib/python3.10/site-packages/sklearn/model_selection/_validation.py\", line 686, in _fit_and_score\n",
      "    estimator.fit(X_train, y_train, **fit_params)\n",
      "  File \"/usr/local/Cellar/jupyterlab/3.4.5/libexec/lib/python3.10/site-packages/sklearn/pipeline.py\", line 382, in fit\n",
      "    self._final_estimator.fit(Xt, y, **fit_params_last_step)\n",
      "  File \"/usr/local/Cellar/jupyterlab/3.4.5/libexec/lib/python3.10/site-packages/sklearn/tree/_classes.py\", line 969, in fit\n",
      "    super().fit(\n",
      "  File \"/usr/local/Cellar/jupyterlab/3.4.5/libexec/lib/python3.10/site-packages/sklearn/tree/_classes.py\", line 238, in fit\n",
      "    check_scalar(\n",
      "  File \"/usr/local/Cellar/jupyterlab/3.4.5/libexec/lib/python3.10/site-packages/sklearn/utils/validation.py\", line 1480, in check_scalar\n",
      "    raise ValueError(\n",
      "ValueError: max_depth == 0, must be >= 1.\n",
      "\n",
      "  warnings.warn(some_fits_failed_message, FitFailedWarning)\n",
      "/usr/local/Cellar/jupyterlab/3.4.5/libexec/lib/python3.10/site-packages/sklearn/model_selection/_search.py:953: UserWarning: One or more of the test scores are non-finite: [       nan 0.78811594 0.81188406 0.84376812 0.84289855]\n",
      "  warnings.warn(\n"
     ]
    }
   ],
   "source": [
    "tree_pipe = make_pipeline(StandardScaler(), DecisionTreeClassifier())\n",
    "param_grid_tree = {'decisiontreeclassifier__max_depth': np.arange(0,5)}\n",
    "grid_tree = GridSearchCV(tree_pipe, param_grid_tree)\n",
    "grid_tree.fit(X_train, y_train)\n",
    "print(grid_tree.best_params_)\n",
    "print(grid_tree.score(X_test, y_test))"
   ]
  },
  {
   "cell_type": "code",
   "execution_count": 17,
   "id": "d591828d",
   "metadata": {},
   "outputs": [
    {
     "name": "stdout",
     "output_type": "stream",
     "text": [
      "on test data directly: 0.8531711555169418\n",
      "using k-fold cross validation: 0.843768115942029\n"
     ]
    }
   ],
   "source": [
    "tree = DecisionTreeClassifier(max_depth=3)\n",
    "tree.fit(X_train, y_train)\n",
    "print(f\"on test data directly: \" + str(tree.score(X_test, y_test)))\n",
    "print(f\"using k-fold cross validation: \" + str(mean(cross_val_score(tree, X_train, y_train))))"
   ]
  },
  {
   "cell_type": "markdown",
   "id": "9ad6f309",
   "metadata": {},
   "source": [
    "So far, the best model to predict data is the Decision Tree model, with KNN being a close second."
   ]
  },
  {
   "cell_type": "markdown",
   "id": "1bdb1380",
   "metadata": {},
   "source": [
    "12. Now rerun your best model from questions 8 through 11, but this time add three new variables to the model that you think will increase prediction accuracy.   Did this model predict test data better than your previous models? "
   ]
  },
  {
   "cell_type": "code",
   "execution_count": 18,
   "id": "98ed841b",
   "metadata": {},
   "outputs": [
    {
     "name": "stdout",
     "output_type": "stream",
     "text": [
      "0    1\n",
      "1    1\n",
      "2    1\n",
      "3    1\n",
      "4    1\n",
      "Name: spam, dtype: int64\n"
     ]
    },
    {
     "data": {
      "text/html": [
       "<div>\n",
       "<style scoped>\n",
       "    .dataframe tbody tr th:only-of-type {\n",
       "        vertical-align: middle;\n",
       "    }\n",
       "\n",
       "    .dataframe tbody tr th {\n",
       "        vertical-align: top;\n",
       "    }\n",
       "\n",
       "    .dataframe thead th {\n",
       "        text-align: right;\n",
       "    }\n",
       "</style>\n",
       "<table border=\"1\" class=\"dataframe\">\n",
       "  <thead>\n",
       "    <tr style=\"text-align: right;\">\n",
       "      <th></th>\n",
       "      <th>word_freq_free:</th>\n",
       "      <th>char_freq_!:</th>\n",
       "      <th>capital_run_length_average:</th>\n",
       "      <th>word_freq_credit:</th>\n",
       "      <th>word_freq_money:</th>\n",
       "      <th>char_freq_$:</th>\n",
       "    </tr>\n",
       "  </thead>\n",
       "  <tbody>\n",
       "    <tr>\n",
       "      <th>0</th>\n",
       "      <td>0.32</td>\n",
       "      <td>0.778</td>\n",
       "      <td>3.756</td>\n",
       "      <td>0.00</td>\n",
       "      <td>0.00</td>\n",
       "      <td>0.000</td>\n",
       "    </tr>\n",
       "    <tr>\n",
       "      <th>1</th>\n",
       "      <td>0.14</td>\n",
       "      <td>0.372</td>\n",
       "      <td>5.114</td>\n",
       "      <td>0.00</td>\n",
       "      <td>0.43</td>\n",
       "      <td>0.180</td>\n",
       "    </tr>\n",
       "    <tr>\n",
       "      <th>2</th>\n",
       "      <td>0.06</td>\n",
       "      <td>0.276</td>\n",
       "      <td>9.821</td>\n",
       "      <td>0.32</td>\n",
       "      <td>0.06</td>\n",
       "      <td>0.184</td>\n",
       "    </tr>\n",
       "    <tr>\n",
       "      <th>3</th>\n",
       "      <td>0.31</td>\n",
       "      <td>0.137</td>\n",
       "      <td>3.537</td>\n",
       "      <td>0.00</td>\n",
       "      <td>0.00</td>\n",
       "      <td>0.000</td>\n",
       "    </tr>\n",
       "    <tr>\n",
       "      <th>4</th>\n",
       "      <td>0.31</td>\n",
       "      <td>0.135</td>\n",
       "      <td>3.537</td>\n",
       "      <td>0.00</td>\n",
       "      <td>0.00</td>\n",
       "      <td>0.000</td>\n",
       "    </tr>\n",
       "  </tbody>\n",
       "</table>\n",
       "</div>"
      ],
      "text/plain": [
       "   word_freq_free:  char_freq_!:  capital_run_length_average:  \\\n",
       "0             0.32         0.778                        3.756   \n",
       "1             0.14         0.372                        5.114   \n",
       "2             0.06         0.276                        9.821   \n",
       "3             0.31         0.137                        3.537   \n",
       "4             0.31         0.135                        3.537   \n",
       "\n",
       "   word_freq_credit:  word_freq_money:  char_freq_$:  \n",
       "0               0.00              0.00         0.000  \n",
       "1               0.00              0.43         0.180  \n",
       "2               0.32              0.06         0.184  \n",
       "3               0.00              0.00         0.000  \n",
       "4               0.00              0.00         0.000  "
      ]
     },
     "execution_count": 18,
     "metadata": {},
     "output_type": "execute_result"
    }
   ],
   "source": [
    "y1 = spam['spam']\n",
    "X1 = spam[['word_freq_free:', 'char_freq_!:', 'capital_run_length_average:', 'word_freq_credit:', 'word_freq_money:', 'char_freq_$:']]\n",
    "print(y1[0:5])\n",
    "X1.head()"
   ]
  },
  {
   "cell_type": "code",
   "execution_count": 20,
   "id": "6d231ac7",
   "metadata": {},
   "outputs": [],
   "source": [
    "scaler = StandardScaler().fit(X1)\n",
    "X1_scaled = scaler.transform(X1)"
   ]
  },
  {
   "cell_type": "code",
   "execution_count": 21,
   "id": "83428bf4",
   "metadata": {},
   "outputs": [],
   "source": [
    "# splitting dataset\n",
    "X1_train, X1_test, y1_train, y1_test = train_test_split(X1_scaled, y1)"
   ]
  },
  {
   "cell_type": "code",
   "execution_count": 26,
   "id": "cdbdbc4b",
   "metadata": {},
   "outputs": [
    {
     "name": "stdout",
     "output_type": "stream",
     "text": [
      "on test data directly: 0.8618592528236316\n",
      "using k-fold cross validation: 0.851304347826087\n"
     ]
    }
   ],
   "source": [
    "tree1 = DecisionTreeClassifier(max_depth=3)\n",
    "tree1.fit(X1_train, y1_train)\n",
    "print(f\"on test data directly: \" + str(tree1.score(X1_test, y1_test)))\n",
    "print(f\"using k-fold cross validation: \" + str(mean(cross_val_score(tree1, X1_train, y1_train))))"
   ]
  },
  {
   "cell_type": "markdown",
   "id": "031ed0a7",
   "metadata": {},
   "source": [
    "This model predicted test data better than my previous models."
   ]
  },
  {
   "cell_type": "markdown",
   "id": "832f296a",
   "metadata": {},
   "source": [
    "13. Rerun all your other models with this final set of six variables, evaluate prediction error, and choose a final model.  Why did you select this model among all of the models that you ran? "
   ]
  },
  {
   "cell_type": "code",
   "execution_count": 28,
   "id": "27b035fc",
   "metadata": {},
   "outputs": [
    {
     "name": "stdout",
     "output_type": "stream",
     "text": [
      "on test data directly: 0.8618592528236316\n",
      "using k-fold cross validation: 0.8785507246376811\n"
     ]
    }
   ],
   "source": [
    "knn1 = KNeighborsClassifier(n_neighbors=7)\n",
    "knn1.fit(X1_train, y1_train)\n",
    "print(f\"on test data directly: \" + str(knn1.score(X1_test, y1_test)))\n",
    "print(f\"using k-fold cross validation: \" + str(mean(cross_val_score(knn1, X1_train, y1_train))))"
   ]
  },
  {
   "cell_type": "code",
   "execution_count": 29,
   "id": "05ad3db6",
   "metadata": {},
   "outputs": [
    {
     "name": "stdout",
     "output_type": "stream",
     "text": [
      "on test data directly: 0.8688097306689835\n",
      "using k-fold cross validation: 0.876231884057971\n"
     ]
    }
   ],
   "source": [
    "svc1 = SVC(C=37)\n",
    "svc1.fit(X1_train, y1_train)\n",
    "print(f\"on test data directly: \" + str(svc1.score(X1_test, y1_test)))\n",
    "print(f\"using k-fold cross validation: \" + str(mean(cross_val_score(svc1, X1_train, y1_train))))"
   ]
  },
  {
   "cell_type": "code",
   "execution_count": 30,
   "id": "c37267aa",
   "metadata": {},
   "outputs": [
    {
     "name": "stdout",
     "output_type": "stream",
     "text": [
      "on test data directly: 0.8462206776715899\n",
      "using k-fold cross validation: 0.8489855072463768\n"
     ]
    }
   ],
   "source": [
    "logreg1 = LogisticRegression(C=3)\n",
    "logreg1.fit(X1_train, y1_train)\n",
    "print(f\"on test data directly: \" + str(logreg1.score(X1_test, y1_test)))\n",
    "print(f\"using k-fold cross validation: \" + str(mean(cross_val_score(logreg1, X1_train, y1_train))))"
   ]
  },
  {
   "cell_type": "markdown",
   "id": "3d4161df",
   "metadata": {},
   "source": [
    "My final model is the K Nearest Neighbors with the 6 variable features as predictors. I selected this model because it had the highest score and cross validation score overall. By using the highest cross validation score to assess, we can assume this model stands better against overfitting. "
   ]
  },
  {
   "cell_type": "markdown",
   "id": "bf88b233",
   "metadata": {},
   "source": [
    "14. What variable that currently is not in your model, if included, would be likely to increase your final model's predictive power?  For this answer try to speculate about a variable outside the variables available in the data that would improve you model."
   ]
  },
  {
   "cell_type": "markdown",
   "id": "4175b48b",
   "metadata": {},
   "source": [
    "A variable that is not currently in my model that would likely increase predictive power is 'char_freq_emoji' which detects whether or not the email contains any character from the emoji board. This would likely increase predictive power as many spam emails, such as ones from retail websites and subscriptions, contain emojis and professional emails should not use emojis. "
   ]
  },
  {
   "cell_type": "markdown",
   "id": "acd39fe4",
   "metadata": {},
   "source": [
    "15. Lastly, you have listed each of the models that we have learned to use to predict dependent variables like spam.  List each model we have focused on in class thus far that you could use to evaluate data with a continuous dependent variable. "
   ]
  },
  {
   "cell_type": "markdown",
   "id": "77f5c93b",
   "metadata": {},
   "source": [
    "Linear Regression, Lasso Regression, Ridge Regression, K Nearest Regressors, and Decision Tree Regressor. "
   ]
  },
  {
   "cell_type": "code",
   "execution_count": null,
   "id": "2def08fa",
   "metadata": {},
   "outputs": [],
   "source": []
  }
 ],
 "metadata": {
  "kernelspec": {
   "display_name": "Python 3 (ipykernel)",
   "language": "python",
   "name": "python3"
  },
  "language_info": {
   "codemirror_mode": {
    "name": "ipython",
    "version": 3
   },
   "file_extension": ".py",
   "mimetype": "text/x-python",
   "name": "python",
   "nbconvert_exporter": "python",
   "pygments_lexer": "ipython3",
   "version": "3.10.6"
  }
 },
 "nbformat": 4,
 "nbformat_minor": 5
}
